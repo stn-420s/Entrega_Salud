{
 "cells": [
  {
   "cell_type": "code",
   "execution_count": 1,
   "metadata": {},
   "outputs": [],
   "source": [
    "# Librerias generales\n",
    "import pandas as pd\n",
    "import numpy as np\n",
    "import re\n",
    "\n",
    "import seaborn as sns\n",
    "import matplotlib.pyplot as plt\n",
    "from sklearn.model_selection import cross_val_predict, cross_val_score, cross_validate\n",
    "from sklearn.model_selection import train_test_split\n",
    "from sklearn.metrics import mean_squared_error, mean_absolute_error, r2_score"
   ]
  },
  {
   "cell_type": "code",
   "execution_count": 2,
   "metadata": {},
   "outputs": [],
   "source": [
    "# Lectura de base de datos\n",
    "df = pd.read_csv('DBs\\df_sel.csv')\n",
    "y = pd.read_csv('DBs\\y.csv')\n",
    "df.drop('Unnamed: 0', axis=1, inplace=True)\n",
    "y.drop('Unnamed: 0', axis=1, inplace=True)"
   ]
  },
  {
   "cell_type": "code",
   "execution_count": 3,
   "metadata": {},
   "outputs": [
    {
     "data": {
      "text/html": [
       "<div>\n",
       "<style scoped>\n",
       "    .dataframe tbody tr th:only-of-type {\n",
       "        vertical-align: middle;\n",
       "    }\n",
       "\n",
       "    .dataframe tbody tr th {\n",
       "        vertical-align: top;\n",
       "    }\n",
       "\n",
       "    .dataframe thead th {\n",
       "        text-align: right;\n",
       "    }\n",
       "</style>\n",
       "<table border=\"1\" class=\"dataframe\">\n",
       "  <thead>\n",
       "    <tr style=\"text-align: right;\">\n",
       "      <th></th>\n",
       "      <th>servicio_habilitado</th>\n",
       "      <th>via_ingreso</th>\n",
       "      <th>unidad_estrategica</th>\n",
       "      <th>transfusion_sangre</th>\n",
       "      <th>antibiotico</th>\n",
       "      <th>dx_principal_egreso_capitulo</th>\n",
       "      <th>profesional_especialidad_grd</th>\n",
       "      <th>clasificacion_imc</th>\n",
       "      <th>control_diabetes</th>\n",
       "      <th>tiene_hta</th>\n",
       "      <th>...</th>\n",
       "      <th>frecuencia_cardiaca_en_reposo</th>\n",
       "      <th>vo2_-_maxima_cantidad_de_oxigeno</th>\n",
       "      <th>lipoproteina</th>\n",
       "      <th>trigliceridos</th>\n",
       "      <th>creatinina_1_consulta</th>\n",
       "      <th>tasa_de_filtracion_glomerular_tfg</th>\n",
       "      <th>hormona_estimulante_de_la_tiroides_(tsh)</th>\n",
       "      <th>creatinina_2_consulta</th>\n",
       "      <th>numero_diagnosticos</th>\n",
       "      <th>edad</th>\n",
       "    </tr>\n",
       "  </thead>\n",
       "  <tbody>\n",
       "    <tr>\n",
       "      <th>0</th>\n",
       "      <td>0.666667</td>\n",
       "      <td>0.5</td>\n",
       "      <td>0.333333</td>\n",
       "      <td>0.0</td>\n",
       "      <td>0.0</td>\n",
       "      <td>0.0625</td>\n",
       "      <td>0.586207</td>\n",
       "      <td>0.666667</td>\n",
       "      <td>1.000000</td>\n",
       "      <td>1.0</td>\n",
       "      <td>...</td>\n",
       "      <td>0.192661</td>\n",
       "      <td>0.187535</td>\n",
       "      <td>0.375595</td>\n",
       "      <td>0.068970</td>\n",
       "      <td>0.073067</td>\n",
       "      <td>0.214658</td>\n",
       "      <td>0.141486</td>\n",
       "      <td>0.065060</td>\n",
       "      <td>0.083333</td>\n",
       "      <td>0.765432</td>\n",
       "    </tr>\n",
       "    <tr>\n",
       "      <th>1</th>\n",
       "      <td>0.666667</td>\n",
       "      <td>0.5</td>\n",
       "      <td>0.333333</td>\n",
       "      <td>0.0</td>\n",
       "      <td>0.0</td>\n",
       "      <td>0.0625</td>\n",
       "      <td>0.586207</td>\n",
       "      <td>1.000000</td>\n",
       "      <td>0.000000</td>\n",
       "      <td>0.0</td>\n",
       "      <td>...</td>\n",
       "      <td>0.275229</td>\n",
       "      <td>0.147795</td>\n",
       "      <td>0.522063</td>\n",
       "      <td>0.000000</td>\n",
       "      <td>0.000000</td>\n",
       "      <td>0.000000</td>\n",
       "      <td>0.045503</td>\n",
       "      <td>0.099598</td>\n",
       "      <td>0.027778</td>\n",
       "      <td>0.864198</td>\n",
       "    </tr>\n",
       "    <tr>\n",
       "      <th>2</th>\n",
       "      <td>0.666667</td>\n",
       "      <td>1.0</td>\n",
       "      <td>0.333333</td>\n",
       "      <td>0.0</td>\n",
       "      <td>0.0</td>\n",
       "      <td>0.3750</td>\n",
       "      <td>0.586207</td>\n",
       "      <td>0.333333</td>\n",
       "      <td>1.000000</td>\n",
       "      <td>1.0</td>\n",
       "      <td>...</td>\n",
       "      <td>0.614679</td>\n",
       "      <td>0.209841</td>\n",
       "      <td>0.242063</td>\n",
       "      <td>0.088553</td>\n",
       "      <td>0.051827</td>\n",
       "      <td>0.213859</td>\n",
       "      <td>0.000000</td>\n",
       "      <td>0.000000</td>\n",
       "      <td>0.000000</td>\n",
       "      <td>0.777778</td>\n",
       "    </tr>\n",
       "    <tr>\n",
       "      <th>3</th>\n",
       "      <td>0.666667</td>\n",
       "      <td>1.0</td>\n",
       "      <td>0.333333</td>\n",
       "      <td>0.0</td>\n",
       "      <td>0.0</td>\n",
       "      <td>0.4375</td>\n",
       "      <td>0.068966</td>\n",
       "      <td>1.000000</td>\n",
       "      <td>1.000000</td>\n",
       "      <td>1.0</td>\n",
       "      <td>...</td>\n",
       "      <td>0.211009</td>\n",
       "      <td>0.205458</td>\n",
       "      <td>0.000000</td>\n",
       "      <td>0.085817</td>\n",
       "      <td>0.072218</td>\n",
       "      <td>0.206353</td>\n",
       "      <td>0.005332</td>\n",
       "      <td>0.106024</td>\n",
       "      <td>0.000000</td>\n",
       "      <td>0.802469</td>\n",
       "    </tr>\n",
       "    <tr>\n",
       "      <th>4</th>\n",
       "      <td>0.666667</td>\n",
       "      <td>1.0</td>\n",
       "      <td>0.333333</td>\n",
       "      <td>0.0</td>\n",
       "      <td>1.0</td>\n",
       "      <td>0.5000</td>\n",
       "      <td>0.482759</td>\n",
       "      <td>0.666667</td>\n",
       "      <td>0.333333</td>\n",
       "      <td>1.0</td>\n",
       "      <td>...</td>\n",
       "      <td>0.412844</td>\n",
       "      <td>0.627775</td>\n",
       "      <td>0.000000</td>\n",
       "      <td>0.108495</td>\n",
       "      <td>0.068819</td>\n",
       "      <td>0.525542</td>\n",
       "      <td>0.699253</td>\n",
       "      <td>0.062651</td>\n",
       "      <td>0.000000</td>\n",
       "      <td>0.283951</td>\n",
       "    </tr>\n",
       "    <tr>\n",
       "      <th>...</th>\n",
       "      <td>...</td>\n",
       "      <td>...</td>\n",
       "      <td>...</td>\n",
       "      <td>...</td>\n",
       "      <td>...</td>\n",
       "      <td>...</td>\n",
       "      <td>...</td>\n",
       "      <td>...</td>\n",
       "      <td>...</td>\n",
       "      <td>...</td>\n",
       "      <td>...</td>\n",
       "      <td>...</td>\n",
       "      <td>...</td>\n",
       "      <td>...</td>\n",
       "      <td>...</td>\n",
       "      <td>...</td>\n",
       "      <td>...</td>\n",
       "      <td>...</td>\n",
       "      <td>...</td>\n",
       "      <td>...</td>\n",
       "      <td>...</td>\n",
       "    </tr>\n",
       "    <tr>\n",
       "      <th>1468</th>\n",
       "      <td>0.666667</td>\n",
       "      <td>1.0</td>\n",
       "      <td>0.333333</td>\n",
       "      <td>0.0</td>\n",
       "      <td>1.0</td>\n",
       "      <td>0.4375</td>\n",
       "      <td>0.068966</td>\n",
       "      <td>0.333333</td>\n",
       "      <td>0.666667</td>\n",
       "      <td>1.0</td>\n",
       "      <td>...</td>\n",
       "      <td>0.724771</td>\n",
       "      <td>0.230517</td>\n",
       "      <td>0.533770</td>\n",
       "      <td>0.320374</td>\n",
       "      <td>0.050127</td>\n",
       "      <td>0.274256</td>\n",
       "      <td>0.000000</td>\n",
       "      <td>0.069880</td>\n",
       "      <td>0.055556</td>\n",
       "      <td>0.666667</td>\n",
       "    </tr>\n",
       "    <tr>\n",
       "      <th>1469</th>\n",
       "      <td>1.000000</td>\n",
       "      <td>1.0</td>\n",
       "      <td>1.000000</td>\n",
       "      <td>0.0</td>\n",
       "      <td>0.0</td>\n",
       "      <td>0.9375</td>\n",
       "      <td>0.655172</td>\n",
       "      <td>0.333333</td>\n",
       "      <td>0.333333</td>\n",
       "      <td>1.0</td>\n",
       "      <td>...</td>\n",
       "      <td>0.532110</td>\n",
       "      <td>0.410321</td>\n",
       "      <td>0.000000</td>\n",
       "      <td>0.050468</td>\n",
       "      <td>0.095157</td>\n",
       "      <td>0.146615</td>\n",
       "      <td>0.076431</td>\n",
       "      <td>0.094779</td>\n",
       "      <td>0.000000</td>\n",
       "      <td>0.827160</td>\n",
       "    </tr>\n",
       "    <tr>\n",
       "      <th>1470</th>\n",
       "      <td>0.666667</td>\n",
       "      <td>1.0</td>\n",
       "      <td>0.333333</td>\n",
       "      <td>0.0</td>\n",
       "      <td>0.0</td>\n",
       "      <td>0.7500</td>\n",
       "      <td>0.241379</td>\n",
       "      <td>0.666667</td>\n",
       "      <td>0.000000</td>\n",
       "      <td>1.0</td>\n",
       "      <td>...</td>\n",
       "      <td>0.192661</td>\n",
       "      <td>0.404256</td>\n",
       "      <td>0.000000</td>\n",
       "      <td>0.000000</td>\n",
       "      <td>0.000000</td>\n",
       "      <td>0.000000</td>\n",
       "      <td>0.000000</td>\n",
       "      <td>0.061847</td>\n",
       "      <td>0.000000</td>\n",
       "      <td>0.679012</td>\n",
       "    </tr>\n",
       "    <tr>\n",
       "      <th>1471</th>\n",
       "      <td>0.666667</td>\n",
       "      <td>1.0</td>\n",
       "      <td>0.333333</td>\n",
       "      <td>0.0</td>\n",
       "      <td>0.0</td>\n",
       "      <td>0.3750</td>\n",
       "      <td>0.586207</td>\n",
       "      <td>0.000000</td>\n",
       "      <td>0.333333</td>\n",
       "      <td>1.0</td>\n",
       "      <td>...</td>\n",
       "      <td>0.165138</td>\n",
       "      <td>0.506070</td>\n",
       "      <td>0.000000</td>\n",
       "      <td>0.000000</td>\n",
       "      <td>0.000000</td>\n",
       "      <td>0.000000</td>\n",
       "      <td>0.000000</td>\n",
       "      <td>0.000000</td>\n",
       "      <td>0.000000</td>\n",
       "      <td>0.950617</td>\n",
       "    </tr>\n",
       "    <tr>\n",
       "      <th>1472</th>\n",
       "      <td>1.000000</td>\n",
       "      <td>1.0</td>\n",
       "      <td>1.000000</td>\n",
       "      <td>0.0</td>\n",
       "      <td>0.0</td>\n",
       "      <td>0.3750</td>\n",
       "      <td>0.551724</td>\n",
       "      <td>0.333333</td>\n",
       "      <td>0.333333</td>\n",
       "      <td>0.0</td>\n",
       "      <td>...</td>\n",
       "      <td>0.394495</td>\n",
       "      <td>0.406413</td>\n",
       "      <td>0.000000</td>\n",
       "      <td>0.066019</td>\n",
       "      <td>0.041631</td>\n",
       "      <td>0.330970</td>\n",
       "      <td>0.028795</td>\n",
       "      <td>0.048193</td>\n",
       "      <td>0.000000</td>\n",
       "      <td>0.802469</td>\n",
       "    </tr>\n",
       "  </tbody>\n",
       "</table>\n",
       "<p>1473 rows × 38 columns</p>\n",
       "</div>"
      ],
      "text/plain": [
       "      servicio_habilitado  via_ingreso  unidad_estrategica  \\\n",
       "0                0.666667          0.5            0.333333   \n",
       "1                0.666667          0.5            0.333333   \n",
       "2                0.666667          1.0            0.333333   \n",
       "3                0.666667          1.0            0.333333   \n",
       "4                0.666667          1.0            0.333333   \n",
       "...                   ...          ...                 ...   \n",
       "1468             0.666667          1.0            0.333333   \n",
       "1469             1.000000          1.0            1.000000   \n",
       "1470             0.666667          1.0            0.333333   \n",
       "1471             0.666667          1.0            0.333333   \n",
       "1472             1.000000          1.0            1.000000   \n",
       "\n",
       "      transfusion_sangre  antibiotico  dx_principal_egreso_capitulo  \\\n",
       "0                    0.0          0.0                        0.0625   \n",
       "1                    0.0          0.0                        0.0625   \n",
       "2                    0.0          0.0                        0.3750   \n",
       "3                    0.0          0.0                        0.4375   \n",
       "4                    0.0          1.0                        0.5000   \n",
       "...                  ...          ...                           ...   \n",
       "1468                 0.0          1.0                        0.4375   \n",
       "1469                 0.0          0.0                        0.9375   \n",
       "1470                 0.0          0.0                        0.7500   \n",
       "1471                 0.0          0.0                        0.3750   \n",
       "1472                 0.0          0.0                        0.3750   \n",
       "\n",
       "      profesional_especialidad_grd  clasificacion_imc  control_diabetes  \\\n",
       "0                         0.586207           0.666667          1.000000   \n",
       "1                         0.586207           1.000000          0.000000   \n",
       "2                         0.586207           0.333333          1.000000   \n",
       "3                         0.068966           1.000000          1.000000   \n",
       "4                         0.482759           0.666667          0.333333   \n",
       "...                            ...                ...               ...   \n",
       "1468                      0.068966           0.333333          0.666667   \n",
       "1469                      0.655172           0.333333          0.333333   \n",
       "1470                      0.241379           0.666667          0.000000   \n",
       "1471                      0.586207           0.000000          0.333333   \n",
       "1472                      0.551724           0.333333          0.333333   \n",
       "\n",
       "      tiene_hta  ...  frecuencia_cardiaca_en_reposo  \\\n",
       "0           1.0  ...                       0.192661   \n",
       "1           0.0  ...                       0.275229   \n",
       "2           1.0  ...                       0.614679   \n",
       "3           1.0  ...                       0.211009   \n",
       "4           1.0  ...                       0.412844   \n",
       "...         ...  ...                            ...   \n",
       "1468        1.0  ...                       0.724771   \n",
       "1469        1.0  ...                       0.532110   \n",
       "1470        1.0  ...                       0.192661   \n",
       "1471        1.0  ...                       0.165138   \n",
       "1472        0.0  ...                       0.394495   \n",
       "\n",
       "      vo2_-_maxima_cantidad_de_oxigeno  lipoproteina  trigliceridos  \\\n",
       "0                             0.187535      0.375595       0.068970   \n",
       "1                             0.147795      0.522063       0.000000   \n",
       "2                             0.209841      0.242063       0.088553   \n",
       "3                             0.205458      0.000000       0.085817   \n",
       "4                             0.627775      0.000000       0.108495   \n",
       "...                                ...           ...            ...   \n",
       "1468                          0.230517      0.533770       0.320374   \n",
       "1469                          0.410321      0.000000       0.050468   \n",
       "1470                          0.404256      0.000000       0.000000   \n",
       "1471                          0.506070      0.000000       0.000000   \n",
       "1472                          0.406413      0.000000       0.066019   \n",
       "\n",
       "      creatinina_1_consulta  tasa_de_filtracion_glomerular_tfg  \\\n",
       "0                  0.073067                           0.214658   \n",
       "1                  0.000000                           0.000000   \n",
       "2                  0.051827                           0.213859   \n",
       "3                  0.072218                           0.206353   \n",
       "4                  0.068819                           0.525542   \n",
       "...                     ...                                ...   \n",
       "1468               0.050127                           0.274256   \n",
       "1469               0.095157                           0.146615   \n",
       "1470               0.000000                           0.000000   \n",
       "1471               0.000000                           0.000000   \n",
       "1472               0.041631                           0.330970   \n",
       "\n",
       "      hormona_estimulante_de_la_tiroides_(tsh)  creatinina_2_consulta  \\\n",
       "0                                     0.141486               0.065060   \n",
       "1                                     0.045503               0.099598   \n",
       "2                                     0.000000               0.000000   \n",
       "3                                     0.005332               0.106024   \n",
       "4                                     0.699253               0.062651   \n",
       "...                                        ...                    ...   \n",
       "1468                                  0.000000               0.069880   \n",
       "1469                                  0.076431               0.094779   \n",
       "1470                                  0.000000               0.061847   \n",
       "1471                                  0.000000               0.000000   \n",
       "1472                                  0.028795               0.048193   \n",
       "\n",
       "      numero_diagnosticos      edad  \n",
       "0                0.083333  0.765432  \n",
       "1                0.027778  0.864198  \n",
       "2                0.000000  0.777778  \n",
       "3                0.000000  0.802469  \n",
       "4                0.000000  0.283951  \n",
       "...                   ...       ...  \n",
       "1468             0.055556  0.666667  \n",
       "1469             0.000000  0.827160  \n",
       "1470             0.000000  0.679012  \n",
       "1471             0.000000  0.950617  \n",
       "1472             0.000000  0.802469  \n",
       "\n",
       "[1473 rows x 38 columns]"
      ]
     },
     "execution_count": 3,
     "metadata": {},
     "output_type": "execute_result"
    }
   ],
   "source": [
    "df"
   ]
  },
  {
   "cell_type": "code",
   "execution_count": 4,
   "metadata": {},
   "outputs": [
    {
     "data": {
      "text/html": [
       "<div>\n",
       "<style scoped>\n",
       "    .dataframe tbody tr th:only-of-type {\n",
       "        vertical-align: middle;\n",
       "    }\n",
       "\n",
       "    .dataframe tbody tr th {\n",
       "        vertical-align: top;\n",
       "    }\n",
       "\n",
       "    .dataframe thead th {\n",
       "        text-align: right;\n",
       "    }\n",
       "</style>\n",
       "<table border=\"1\" class=\"dataframe\">\n",
       "  <thead>\n",
       "    <tr style=\"text-align: right;\">\n",
       "      <th></th>\n",
       "      <th>tiempo_estancia</th>\n",
       "    </tr>\n",
       "  </thead>\n",
       "  <tbody>\n",
       "    <tr>\n",
       "      <th>0</th>\n",
       "      <td>77.719108</td>\n",
       "    </tr>\n",
       "    <tr>\n",
       "      <th>1</th>\n",
       "      <td>302.528029</td>\n",
       "    </tr>\n",
       "    <tr>\n",
       "      <th>2</th>\n",
       "      <td>168.615411</td>\n",
       "    </tr>\n",
       "    <tr>\n",
       "      <th>3</th>\n",
       "      <td>90.240822</td>\n",
       "    </tr>\n",
       "    <tr>\n",
       "      <th>4</th>\n",
       "      <td>245.486805</td>\n",
       "    </tr>\n",
       "    <tr>\n",
       "      <th>...</th>\n",
       "      <td>...</td>\n",
       "    </tr>\n",
       "    <tr>\n",
       "      <th>1468</th>\n",
       "      <td>133.301420</td>\n",
       "    </tr>\n",
       "    <tr>\n",
       "      <th>1469</th>\n",
       "      <td>23.346871</td>\n",
       "    </tr>\n",
       "    <tr>\n",
       "      <th>1470</th>\n",
       "      <td>62.268748</td>\n",
       "    </tr>\n",
       "    <tr>\n",
       "      <th>1471</th>\n",
       "      <td>91.969748</td>\n",
       "    </tr>\n",
       "    <tr>\n",
       "      <th>1472</th>\n",
       "      <td>46.309283</td>\n",
       "    </tr>\n",
       "  </tbody>\n",
       "</table>\n",
       "<p>1473 rows × 1 columns</p>\n",
       "</div>"
      ],
      "text/plain": [
       "      tiempo_estancia\n",
       "0           77.719108\n",
       "1          302.528029\n",
       "2          168.615411\n",
       "3           90.240822\n",
       "4          245.486805\n",
       "...               ...\n",
       "1468       133.301420\n",
       "1469        23.346871\n",
       "1470        62.268748\n",
       "1471        91.969748\n",
       "1472        46.309283\n",
       "\n",
       "[1473 rows x 1 columns]"
      ]
     },
     "execution_count": 4,
     "metadata": {},
     "output_type": "execute_result"
    }
   ],
   "source": [
    "y"
   ]
  },
  {
   "cell_type": "code",
   "execution_count": 5,
   "metadata": {},
   "outputs": [],
   "source": [
    "from sklearn.preprocessing import MinMaxScaler\n",
    "\n",
    "# Crear una instancia del MinMaxScaler\n",
    "scaler = MinMaxScaler()\n",
    "\n",
    "# Ajustar el escalador a los datos\n",
    "scaler.fit(y)\n",
    "\n",
    "# Transformar los datos y almacenarlos en una nueva variable\n",
    "y_sc = scaler.transform(y)\n",
    "\n",
    "y_sc= pd.DataFrame(y_sc, columns=y.columns)"
   ]
  },
  {
   "cell_type": "markdown",
   "metadata": {},
   "source": [
    "# <h1> Elección de modelos mediante CrossValidation"
   ]
  },
  {
   "cell_type": "code",
   "execution_count": 6,
   "metadata": {},
   "outputs": [],
   "source": [
    "from sklearn.model_selection import cross_val_score\n",
    "from sklearn.svm import SVR\n",
    "from sklearn.ensemble import RandomForestRegressor\n",
    "import lightgbm as lgb\n",
    "from sklearn.tree import DecisionTreeRegressor\n",
    "from sklearn import ensemble\n",
    "from sklearn.linear_model import LinearRegression"
   ]
  },
  {
   "cell_type": "code",
   "execution_count": 7,
   "metadata": {},
   "outputs": [],
   "source": [
    "#Creacion modelo Regresión lineal\n",
    "#m_lr = LinearRegression()\n",
    "\n",
    "#Creacion modelo Gradient Boosting Regression\n",
    "m_gbr = ensemble.GradientBoostingRegressor()\n",
    "\n",
    "#Creacion modelo Decision Tree Regression\n",
    "m_dtr = DecisionTreeRegressor()\n",
    "\n",
    "#Creacion modelo Support Vector Machine Regression\n",
    "m_svr=SVR()\n",
    "\n",
    "#Creacion modelo Random Forest Regression\n",
    "m_rfr=RandomForestRegressor()\n",
    "\n",
    "#Creacion modelo LightGBM\n",
    "m_lgb=lgb.LGBMRegressor()\n",
    "\n",
    "#lista de modelos\n",
    "m=([ m_gbr, m_dtr,m_svr,m_rfr,m_lgb])"
   ]
  },
  {
   "cell_type": "code",
   "execution_count": 8,
   "metadata": {},
   "outputs": [
    {
     "name": "stderr",
     "output_type": "stream",
     "text": [
      "c:\\Users\\Dell\\AppData\\Local\\Programs\\Python\\Python310\\lib\\site-packages\\sklearn\\ensemble\\_gb.py:424: DataConversionWarning: A column-vector y was passed when a 1d array was expected. Please change the shape of y to (n_samples, ), for example using ravel().\n",
      "  y = column_or_1d(y, warn=True)\n",
      "c:\\Users\\Dell\\AppData\\Local\\Programs\\Python\\Python310\\lib\\site-packages\\sklearn\\ensemble\\_gb.py:424: DataConversionWarning: A column-vector y was passed when a 1d array was expected. Please change the shape of y to (n_samples, ), for example using ravel().\n",
      "  y = column_or_1d(y, warn=True)\n",
      "c:\\Users\\Dell\\AppData\\Local\\Programs\\Python\\Python310\\lib\\site-packages\\sklearn\\ensemble\\_gb.py:424: DataConversionWarning: A column-vector y was passed when a 1d array was expected. Please change the shape of y to (n_samples, ), for example using ravel().\n",
      "  y = column_or_1d(y, warn=True)\n",
      "c:\\Users\\Dell\\AppData\\Local\\Programs\\Python\\Python310\\lib\\site-packages\\sklearn\\ensemble\\_gb.py:424: DataConversionWarning: A column-vector y was passed when a 1d array was expected. Please change the shape of y to (n_samples, ), for example using ravel().\n",
      "  y = column_or_1d(y, warn=True)\n",
      "c:\\Users\\Dell\\AppData\\Local\\Programs\\Python\\Python310\\lib\\site-packages\\sklearn\\utils\\validation.py:1184: DataConversionWarning: A column-vector y was passed when a 1d array was expected. Please change the shape of y to (n_samples, ), for example using ravel().\n",
      "  y = column_or_1d(y, warn=True)\n",
      "c:\\Users\\Dell\\AppData\\Local\\Programs\\Python\\Python310\\lib\\site-packages\\sklearn\\utils\\validation.py:1184: DataConversionWarning: A column-vector y was passed when a 1d array was expected. Please change the shape of y to (n_samples, ), for example using ravel().\n",
      "  y = column_or_1d(y, warn=True)\n",
      "c:\\Users\\Dell\\AppData\\Local\\Programs\\Python\\Python310\\lib\\site-packages\\sklearn\\utils\\validation.py:1184: DataConversionWarning: A column-vector y was passed when a 1d array was expected. Please change the shape of y to (n_samples, ), for example using ravel().\n",
      "  y = column_or_1d(y, warn=True)\n",
      "c:\\Users\\Dell\\AppData\\Local\\Programs\\Python\\Python310\\lib\\site-packages\\sklearn\\utils\\validation.py:1184: DataConversionWarning: A column-vector y was passed when a 1d array was expected. Please change the shape of y to (n_samples, ), for example using ravel().\n",
      "  y = column_or_1d(y, warn=True)\n",
      "c:\\Users\\Dell\\AppData\\Local\\Programs\\Python\\Python310\\lib\\site-packages\\sklearn\\base.py:1151: DataConversionWarning: A column-vector y was passed when a 1d array was expected. Please change the shape of y to (n_samples,), for example using ravel().\n",
      "  return fit_method(estimator, *args, **kwargs)\n",
      "c:\\Users\\Dell\\AppData\\Local\\Programs\\Python\\Python310\\lib\\site-packages\\sklearn\\base.py:1151: DataConversionWarning: A column-vector y was passed when a 1d array was expected. Please change the shape of y to (n_samples,), for example using ravel().\n",
      "  return fit_method(estimator, *args, **kwargs)\n",
      "c:\\Users\\Dell\\AppData\\Local\\Programs\\Python\\Python310\\lib\\site-packages\\sklearn\\base.py:1151: DataConversionWarning: A column-vector y was passed when a 1d array was expected. Please change the shape of y to (n_samples,), for example using ravel().\n",
      "  return fit_method(estimator, *args, **kwargs)\n",
      "c:\\Users\\Dell\\AppData\\Local\\Programs\\Python\\Python310\\lib\\site-packages\\sklearn\\base.py:1151: DataConversionWarning: A column-vector y was passed when a 1d array was expected. Please change the shape of y to (n_samples,), for example using ravel().\n",
      "  return fit_method(estimator, *args, **kwargs)\n"
     ]
    },
    {
     "name": "stdout",
     "output_type": "stream",
     "text": [
      "[LightGBM] [Info] Auto-choosing row-wise multi-threading, the overhead of testing was 0.001261 seconds.\n",
      "You can set `force_row_wise=true` to remove the overhead.\n",
      "And if memory is not enough, you can set `force_col_wise=true`.\n",
      "[LightGBM] [Info] Total Bins 2017\n",
      "[LightGBM] [Info] Number of data points in the train set: 1104, number of used features: 38\n",
      "[LightGBM] [Info] Start training from score 0.075004\n",
      "[LightGBM] [Info] Auto-choosing col-wise multi-threading, the overhead of testing was 0.000634 seconds.\n",
      "You can set `force_col_wise=true` to remove the overhead.\n",
      "[LightGBM] [Info] Total Bins 2011\n",
      "[LightGBM] [Info] Number of data points in the train set: 1105, number of used features: 38\n",
      "[LightGBM] [Info] Start training from score 0.077257\n",
      "[LightGBM] [Info] Auto-choosing col-wise multi-threading, the overhead of testing was 0.000582 seconds.\n",
      "You can set `force_col_wise=true` to remove the overhead.\n",
      "[LightGBM] [Info] Total Bins 2025\n",
      "[LightGBM] [Info] Number of data points in the train set: 1105, number of used features: 38\n",
      "[LightGBM] [Info] Start training from score 0.076479\n",
      "[LightGBM] [Info] Auto-choosing col-wise multi-threading, the overhead of testing was 0.000557 seconds.\n",
      "You can set `force_col_wise=true` to remove the overhead.\n",
      "[LightGBM] [Info] Total Bins 2013\n",
      "[LightGBM] [Info] Number of data points in the train set: 1105, number of used features: 38\n",
      "[LightGBM] [Info] Start training from score 0.082613\n"
     ]
    }
   ],
   "source": [
    "def medir_modelos(modelos, scoring, X, y, cv):\n",
    "    metric_modelos = pd.DataFrame()\n",
    "    for i, modelo in enumerate(modelos):\n",
    "        scores = cross_val_score(modelo, X, y, scoring=scoring, cv=cv)\n",
    "        col_name = f'm{i + 1}_{modelo.__class__.__name__}'  # Nombre de columna con número de modelo y nombre del modelo\n",
    "        pdscores = pd.DataFrame(scores, columns=[col_name])\n",
    "        metric_modelos = pd.concat([metric_modelos, pdscores], axis=1)\n",
    "    return metric_modelos\n",
    "\n",
    "\n",
    "rmse1 = medir_modelos(m, 'neg_mean_squared_error', df, y_sc, 4)"
   ]
  },
  {
   "cell_type": "code",
   "execution_count": 9,
   "metadata": {},
   "outputs": [
    {
     "data": {
      "image/png": "[encoded data removed]",
      "text/plain": [
       "<Figure size 640x480 with 1 Axes>"
      ]
     },
     "metadata": {},
     "output_type": "display_data"
    }
   ],
   "source": [
    "# Crear el gráfico de caja\n",
    "ax = rmse1.plot(kind='box')\n",
    "ax.axhline(y=-0.0054, color='r', linestyle='--')\n",
    "ax.set_xticklabels(ax.get_xticklabels(), rotation=90)\n",
    "# Mostrar el gráfico\n",
    "plt.show()"
   ]
  },
  {
   "cell_type": "markdown",
   "metadata": {},
   "source": [
    "El modelo Gradient Boosting Regression, es el mejor de acuerdo con la inversa del rmse, ya que tiene una materica con su media más cercana a cero y menos negativa que los demas modelos. Lo que significa que el random forest regressor tiene un error cuadrático medio más bajo y, por lo tanto, sus predicciones están más cerca de los valores reales."
   ]
  },
  {
   "cell_type": "markdown",
   "metadata": {},
   "source": [
    "# <h1> Prueba de modelos para ver sus métricas en testeo"
   ]
  },
  {
   "cell_type": "code",
   "execution_count": 10,
   "metadata": {},
   "outputs": [],
   "source": [
    "#separacion de datos\n",
    "X_train,X_test,y_train,y_test=train_test_split(df,y_sc,test_size=0.3,random_state=0)"
   ]
  },
  {
   "cell_type": "markdown",
   "metadata": {},
   "source": [
    "# <h1> LGBMRegressor"
   ]
  },
  {
   "cell_type": "code",
   "execution_count": 11,
   "metadata": {},
   "outputs": [
    {
     "name": "stdout",
     "output_type": "stream",
     "text": [
      "[LightGBM] [Info] Auto-choosing col-wise multi-threading, the overhead of testing was 0.000785 seconds.\n",
      "You can set `force_col_wise=true` to remove the overhead.\n",
      "[LightGBM] [Info] Total Bins 1987\n",
      "[LightGBM] [Info] Number of data points in the train set: 1031, number of used features: 38\n",
      "[LightGBM] [Info] Start training from score 0.077898\n"
     ]
    },
    {
     "data": {
      "text/html": [
       "<style>#sk-container-id-1 {color: black;}#sk-container-id-1 pre{padding: 0;}#sk-container-id-1 div.sk-toggleable {background-color: white;}#sk-container-id-1 label.sk-toggleable__label {cursor: pointer;display: block;width: 100%;margin-bottom: 0;padding: 0.3em;box-sizing: border-box;text-align: center;}#sk-container-id-1 label.sk-toggleable__label-arrow:before {content: \"▸\";float: left;margin-right: 0.25em;color: #696969;}#sk-container-id-1 label.sk-toggleable__label-arrow:hover:before {color: black;}#sk-container-id-1 div.sk-estimator:hover label.sk-toggleable__label-arrow:before {color: black;}#sk-container-id-1 div.sk-toggleable__content {max-height: 0;max-width: 0;overflow: hidden;text-align: left;background-color: #f0f8ff;}#sk-container-id-1 div.sk-toggleable__content pre {margin: 0.2em;color: black;border-radius: 0.25em;background-color: #f0f8ff;}#sk-container-id-1 input.sk-toggleable__control:checked~div.sk-toggleable__content {max-height: 200px;max-width: 100%;overflow: auto;}#sk-container-id-1 input.sk-toggleable__control:checked~label.sk-toggleable__label-arrow:before {content: \"▾\";}#sk-container-id-1 div.sk-estimator input.sk-toggleable__control:checked~label.sk-toggleable__label {background-color: #d4ebff;}#sk-container-id-1 div.sk-label input.sk-toggleable__control:checked~label.sk-toggleable__label {background-color: #d4ebff;}#sk-container-id-1 input.sk-hidden--visually {border: 0;clip: rect(1px 1px 1px 1px);clip: rect(1px, 1px, 1px, 1px);height: 1px;margin: -1px;overflow: hidden;padding: 0;position: absolute;width: 1px;}#sk-container-id-1 div.sk-estimator {font-family: monospace;background-color: #f0f8ff;border: 1px dotted black;border-radius: 0.25em;box-sizing: border-box;margin-bottom: 0.5em;}#sk-container-id-1 div.sk-estimator:hover {background-color: #d4ebff;}#sk-container-id-1 div.sk-parallel-item::after {content: \"\";width: 100%;border-bottom: 1px solid gray;flex-grow: 1;}#sk-container-id-1 div.sk-label:hover label.sk-toggleable__label {background-color: #d4ebff;}#sk-container-id-1 div.sk-serial::before {content: \"\";position: absolute;border-left: 1px solid gray;box-sizing: border-box;top: 0;bottom: 0;left: 50%;z-index: 0;}#sk-container-id-1 div.sk-serial {display: flex;flex-direction: column;align-items: center;background-color: white;padding-right: 0.2em;padding-left: 0.2em;position: relative;}#sk-container-id-1 div.sk-item {position: relative;z-index: 1;}#sk-container-id-1 div.sk-parallel {display: flex;align-items: stretch;justify-content: center;background-color: white;position: relative;}#sk-container-id-1 div.sk-item::before, #sk-container-id-1 div.sk-parallel-item::before {content: \"\";position: absolute;border-left: 1px solid gray;box-sizing: border-box;top: 0;bottom: 0;left: 50%;z-index: -1;}#sk-container-id-1 div.sk-parallel-item {display: flex;flex-direction: column;z-index: 1;position: relative;background-color: white;}#sk-container-id-1 div.sk-parallel-item:first-child::after {align-self: flex-end;width: 50%;}#sk-container-id-1 div.sk-parallel-item:last-child::after {align-self: flex-start;width: 50%;}#sk-container-id-1 div.sk-parallel-item:only-child::after {width: 0;}#sk-container-id-1 div.sk-dashed-wrapped {border: 1px dashed gray;margin: 0 0.4em 0.5em 0.4em;box-sizing: border-box;padding-bottom: 0.4em;background-color: white;}#sk-container-id-1 div.sk-label label {font-family: monospace;font-weight: bold;display: inline-block;line-height: 1.2em;}#sk-container-id-1 div.sk-label-container {text-align: center;}#sk-container-id-1 div.sk-container {/* jupyter's `normalize.less` sets `[hidden] { display: none; }` but bootstrap.min.css set `[hidden] { display: none !important; }` so we also need the `!important` here to be able to override the default hidden behavior on the sphinx rendered scikit-learn.org. See: https://github.com/scikit-learn/scikit-learn/issues/21755 */display: inline-block !important;position: relative;}#sk-container-id-1 div.sk-text-repr-fallback {display: none;}</style><div id=\"sk-container-id-1\" class=\"sk-top-container\"><div class=\"sk-text-repr-fallback\"><pre>LGBMRegressor()</pre><b>In a Jupyter environment, please rerun this cell to show the HTML representation or trust the notebook. <br />On GitHub, the HTML representation is unable to render, please try loading this page with nbviewer.org.</b></div><div class=\"sk-container\" hidden><div class=\"sk-item\"><div class=\"sk-estimator sk-toggleable\"><input class=\"sk-toggleable__control sk-hidden--visually\" id=\"sk-estimator-id-1\" type=\"checkbox\" checked><label for=\"sk-estimator-id-1\" class=\"sk-toggleable__label sk-toggleable__label-arrow\">LGBMRegressor</label><div class=\"sk-toggleable__content\"><pre>LGBMRegressor()</pre></div></div></div></div></div>"
      ],
      "text/plain": [
       "LGBMRegressor()"
      ]
     },
     "execution_count": 11,
     "metadata": {},
     "output_type": "execute_result"
    }
   ],
   "source": [
    "#Creacion modelo RandomForest\n",
    "m_lgb=lgb.LGBMRegressor()\n",
    "m_lgb.fit(X_train,y_train)"
   ]
  },
  {
   "cell_type": "code",
   "execution_count": 12,
   "metadata": {},
   "outputs": [
    {
     "name": "stdout",
     "output_type": "stream",
     "text": [
      "Train - MAE: 32.2177789943067\n",
      "Train - RMSE: 54.692319242069\n",
      "Test - MAE: 113.72687577868157\n",
      "Test - RMSE: 177.7398033121072\n"
     ]
    }
   ],
   "source": [
    "from sklearn.metrics import r2_score, mean_squared_error, mean_absolute_error\n",
    "\n",
    "# Ajuste de modelo y conjuntos de datos de entrenamiento y prueba\n",
    "# X_train, X_test, y_train, y_test representan tus datos\n",
    "\n",
    "# Entrenar tu modelo con X_train y y_train\n",
    "\n",
    "# Realizar predicciones en el conjunto de entrenamiento\n",
    "y_pred_train = m_lgb.predict(X_train).ravel()\n",
    "\n",
    "# Realizar predicciones en el conjunto de prueba\n",
    "y_pred_test = m_lgb.predict(X_test).ravel()\n",
    "\n",
    "# Desescalar los valores predichos y los valores reales tanto para entrenamiento como para prueba\n",
    "y_train_o = scaler.inverse_transform(y_train)\n",
    "y_pred_train_o = scaler.inverse_transform(y_pred_train.reshape(-1, 1))\n",
    "\n",
    "y_test_o = scaler.inverse_transform(y_test)\n",
    "y_pred_test_o = scaler.inverse_transform(y_pred_test.reshape(-1, 1))\n",
    "\n",
    "# Calcular métricas R^2, MAE y RMSE para el conjunto de entrenamiento\n",
    "r2_train = r2_score(y_train_o, y_pred_train_o)\n",
    "mae_train = mean_absolute_error(y_train_o, y_pred_train_o)\n",
    "rmse_train = np.sqrt(mean_squared_error(y_train_o, y_pred_train_o))\n",
    "\n",
    "# Calcular métricas R^2, MAE y RMSE para el conjunto de prueba\n",
    "r2_test = r2_score(y_test_o, y_pred_test_o)\n",
    "mae_test = mean_absolute_error(y_test_o, y_pred_test_o)\n",
    "rmse_test = np.sqrt(mean_squared_error(y_test_o, y_pred_test_o))\n",
    "\n",
    "# Imprimir los resultados para el conjunto de entrenamiento\n",
    "\n",
    "print(\"Train - MAE:\", mae_train)\n",
    "print(\"Train - RMSE:\", rmse_train)\n",
    "\n",
    "\n",
    "# Imprimir los resultados para el conjunto de prueba\n",
    "\n",
    "print(\"Test - MAE:\", mae_test)\n",
    "print(\"Test - RMSE:\", rmse_test)"
   ]
  },
  {
   "cell_type": "markdown",
   "metadata": {},
   "source": [
    "# <h1> GradientBoostingRegressor"
   ]
  },
  {
   "cell_type": "code",
   "execution_count": 13,
   "metadata": {},
   "outputs": [
    {
     "name": "stderr",
     "output_type": "stream",
     "text": [
      "c:\\Users\\Dell\\AppData\\Local\\Programs\\Python\\Python310\\lib\\site-packages\\sklearn\\ensemble\\_gb.py:424: DataConversionWarning: A column-vector y was passed when a 1d array was expected. Please change the shape of y to (n_samples, ), for example using ravel().\n",
      "  y = column_or_1d(y, warn=True)\n"
     ]
    },
    {
     "data": {
      "text/html": [
       "<style>#sk-container-id-2 {color: black;}#sk-container-id-2 pre{padding: 0;}#sk-container-id-2 div.sk-toggleable {background-color: white;}#sk-container-id-2 label.sk-toggleable__label {cursor: pointer;display: block;width: 100%;margin-bottom: 0;padding: 0.3em;box-sizing: border-box;text-align: center;}#sk-container-id-2 label.sk-toggleable__label-arrow:before {content: \"▸\";float: left;margin-right: 0.25em;color: #696969;}#sk-container-id-2 label.sk-toggleable__label-arrow:hover:before {color: black;}#sk-container-id-2 div.sk-estimator:hover label.sk-toggleable__label-arrow:before {color: black;}#sk-container-id-2 div.sk-toggleable__content {max-height: 0;max-width: 0;overflow: hidden;text-align: left;background-color: #f0f8ff;}#sk-container-id-2 div.sk-toggleable__content pre {margin: 0.2em;color: black;border-radius: 0.25em;background-color: #f0f8ff;}#sk-container-id-2 input.sk-toggleable__control:checked~div.sk-toggleable__content {max-height: 200px;max-width: 100%;overflow: auto;}#sk-container-id-2 input.sk-toggleable__control:checked~label.sk-toggleable__label-arrow:before {content: \"▾\";}#sk-container-id-2 div.sk-estimator input.sk-toggleable__control:checked~label.sk-toggleable__label {background-color: #d4ebff;}#sk-container-id-2 div.sk-label input.sk-toggleable__control:checked~label.sk-toggleable__label {background-color: #d4ebff;}#sk-container-id-2 input.sk-hidden--visually {border: 0;clip: rect(1px 1px 1px 1px);clip: rect(1px, 1px, 1px, 1px);height: 1px;margin: -1px;overflow: hidden;padding: 0;position: absolute;width: 1px;}#sk-container-id-2 div.sk-estimator {font-family: monospace;background-color: #f0f8ff;border: 1px dotted black;border-radius: 0.25em;box-sizing: border-box;margin-bottom: 0.5em;}#sk-container-id-2 div.sk-estimator:hover {background-color: #d4ebff;}#sk-container-id-2 div.sk-parallel-item::after {content: \"\";width: 100%;border-bottom: 1px solid gray;flex-grow: 1;}#sk-container-id-2 div.sk-label:hover label.sk-toggleable__label {background-color: #d4ebff;}#sk-container-id-2 div.sk-serial::before {content: \"\";position: absolute;border-left: 1px solid gray;box-sizing: border-box;top: 0;bottom: 0;left: 50%;z-index: 0;}#sk-container-id-2 div.sk-serial {display: flex;flex-direction: column;align-items: center;background-color: white;padding-right: 0.2em;padding-left: 0.2em;position: relative;}#sk-container-id-2 div.sk-item {position: relative;z-index: 1;}#sk-container-id-2 div.sk-parallel {display: flex;align-items: stretch;justify-content: center;background-color: white;position: relative;}#sk-container-id-2 div.sk-item::before, #sk-container-id-2 div.sk-parallel-item::before {content: \"\";position: absolute;border-left: 1px solid gray;box-sizing: border-box;top: 0;bottom: 0;left: 50%;z-index: -1;}#sk-container-id-2 div.sk-parallel-item {display: flex;flex-direction: column;z-index: 1;position: relative;background-color: white;}#sk-container-id-2 div.sk-parallel-item:first-child::after {align-self: flex-end;width: 50%;}#sk-container-id-2 div.sk-parallel-item:last-child::after {align-self: flex-start;width: 50%;}#sk-container-id-2 div.sk-parallel-item:only-child::after {width: 0;}#sk-container-id-2 div.sk-dashed-wrapped {border: 1px dashed gray;margin: 0 0.4em 0.5em 0.4em;box-sizing: border-box;padding-bottom: 0.4em;background-color: white;}#sk-container-id-2 div.sk-label label {font-family: monospace;font-weight: bold;display: inline-block;line-height: 1.2em;}#sk-container-id-2 div.sk-label-container {text-align: center;}#sk-container-id-2 div.sk-container {/* jupyter's `normalize.less` sets `[hidden] { display: none; }` but bootstrap.min.css set `[hidden] { display: none !important; }` so we also need the `!important` here to be able to override the default hidden behavior on the sphinx rendered scikit-learn.org. See: https://github.com/scikit-learn/scikit-learn/issues/21755 */display: inline-block !important;position: relative;}#sk-container-id-2 div.sk-text-repr-fallback {display: none;}</style><div id=\"sk-container-id-2\" class=\"sk-top-container\"><div class=\"sk-text-repr-fallback\"><pre>GradientBoostingRegressor()</pre><b>In a Jupyter environment, please rerun this cell to show the HTML representation or trust the notebook. <br />On GitHub, the HTML representation is unable to render, please try loading this page with nbviewer.org.</b></div><div class=\"sk-container\" hidden><div class=\"sk-item\"><div class=\"sk-estimator sk-toggleable\"><input class=\"sk-toggleable__control sk-hidden--visually\" id=\"sk-estimator-id-2\" type=\"checkbox\" checked><label for=\"sk-estimator-id-2\" class=\"sk-toggleable__label sk-toggleable__label-arrow\">GradientBoostingRegressor</label><div class=\"sk-toggleable__content\"><pre>GradientBoostingRegressor()</pre></div></div></div></div></div>"
      ],
      "text/plain": [
       "GradientBoostingRegressor()"
      ]
     },
     "execution_count": 13,
     "metadata": {},
     "output_type": "execute_result"
    }
   ],
   "source": [
    "m_gbr = ensemble.GradientBoostingRegressor()\n",
    "m_gbr.fit(X_train,y_train)"
   ]
  },
  {
   "cell_type": "code",
   "execution_count": 14,
   "metadata": {},
   "outputs": [
    {
     "name": "stdout",
     "output_type": "stream",
     "text": [
      "Train - MAE: 76.85376050825548\n",
      "Train - RMSE: 112.90269542764136\n",
      "Test - MAE: 105.39340098133269\n",
      "Test - RMSE: 162.06093218408364\n"
     ]
    }
   ],
   "source": [
    "from sklearn.metrics import r2_score, mean_squared_error, mean_absolute_error\n",
    "\n",
    "# Ajuste de modelo y conjuntos de datos de entrenamiento y prueba\n",
    "# X_train, X_test, y_train, y_test representan tus datos\n",
    "\n",
    "# Entrenar modelo con X_train y y_train\n",
    "\n",
    "# Realizar predicciones en el conjunto de entrenamiento\n",
    "y_pred_train = m_gbr.predict(X_train)\n",
    "\n",
    "# Realizar predicciones en el conjunto de prueba\n",
    "y_pred_test = m_gbr.predict(X_test)\n",
    "\n",
    "# Desescalar los valores predichos y los valores reales tanto para entrenamiento como para prueba\n",
    "y_train_o = scaler.inverse_transform(y_train)\n",
    "y_pred_train = y_pred_train.reshape(-1, 1)\n",
    "y_pred_train_o = scaler.inverse_transform(y_pred_train)\n",
    "\n",
    "y_test_o = scaler.inverse_transform(y_test)\n",
    "y_pred_test = y_pred_test.reshape(-1, 1)\n",
    "y_pred_test_o = scaler.inverse_transform(y_pred_test)\n",
    "\n",
    "# Calcular métricas R^2, MAE y RMSE para el conjunto de entrenamiento\n",
    "r2_train = r2_score(y_train_o, y_pred_train_o)\n",
    "mae_train = mean_absolute_error(y_train_o, y_pred_train_o)\n",
    "rmse_train = np.sqrt(mean_squared_error(y_train_o, y_pred_train_o))\n",
    "\n",
    "# Calcular métricas R^2, MAE y RMSE para el conjunto de prueba\n",
    "r2_test = r2_score(y_test_o, y_pred_test_o)\n",
    "mae_test = mean_absolute_error(y_test_o, y_pred_test_o)\n",
    "rmse_test = np.sqrt(mean_squared_error(y_test_o, y_pred_test_o))\n",
    "\n",
    "# Imprimir los resultados para el conjunto de entrenamiento\n",
    "\n",
    "print(\"Train - MAE:\", mae_train)\n",
    "print(\"Train - RMSE:\", rmse_train)\n",
    "\n",
    "\n",
    "# Imprimir los resultados para el conjunto de prueba\n",
    "\n",
    "print(\"Test - MAE:\", mae_test)\n",
    "print(\"Test - RMSE:\", rmse_test)"
   ]
  },
  {
   "cell_type": "markdown",
   "metadata": {},
   "source": [
    "# <h1> DecisionTreeRegressor"
   ]
  },
  {
   "cell_type": "code",
   "execution_count": 15,
   "metadata": {},
   "outputs": [
    {
     "data": {
      "text/html": [
       "<style>#sk-container-id-3 {color: black;}#sk-container-id-3 pre{padding: 0;}#sk-container-id-3 div.sk-toggleable {background-color: white;}#sk-container-id-3 label.sk-toggleable__label {cursor: pointer;display: block;width: 100%;margin-bottom: 0;padding: 0.3em;box-sizing: border-box;text-align: center;}#sk-container-id-3 label.sk-toggleable__label-arrow:before {content: \"▸\";float: left;margin-right: 0.25em;color: #696969;}#sk-container-id-3 label.sk-toggleable__label-arrow:hover:before {color: black;}#sk-container-id-3 div.sk-estimator:hover label.sk-toggleable__label-arrow:before {color: black;}#sk-container-id-3 div.sk-toggleable__content {max-height: 0;max-width: 0;overflow: hidden;text-align: left;background-color: #f0f8ff;}#sk-container-id-3 div.sk-toggleable__content pre {margin: 0.2em;color: black;border-radius: 0.25em;background-color: #f0f8ff;}#sk-container-id-3 input.sk-toggleable__control:checked~div.sk-toggleable__content {max-height: 200px;max-width: 100%;overflow: auto;}#sk-container-id-3 input.sk-toggleable__control:checked~label.sk-toggleable__label-arrow:before {content: \"▾\";}#sk-container-id-3 div.sk-estimator input.sk-toggleable__control:checked~label.sk-toggleable__label {background-color: #d4ebff;}#sk-container-id-3 div.sk-label input.sk-toggleable__control:checked~label.sk-toggleable__label {background-color: #d4ebff;}#sk-container-id-3 input.sk-hidden--visually {border: 0;clip: rect(1px 1px 1px 1px);clip: rect(1px, 1px, 1px, 1px);height: 1px;margin: -1px;overflow: hidden;padding: 0;position: absolute;width: 1px;}#sk-container-id-3 div.sk-estimator {font-family: monospace;background-color: #f0f8ff;border: 1px dotted black;border-radius: 0.25em;box-sizing: border-box;margin-bottom: 0.5em;}#sk-container-id-3 div.sk-estimator:hover {background-color: #d4ebff;}#sk-container-id-3 div.sk-parallel-item::after {content: \"\";width: 100%;border-bottom: 1px solid gray;flex-grow: 1;}#sk-container-id-3 div.sk-label:hover label.sk-toggleable__label {background-color: #d4ebff;}#sk-container-id-3 div.sk-serial::before {content: \"\";position: absolute;border-left: 1px solid gray;box-sizing: border-box;top: 0;bottom: 0;left: 50%;z-index: 0;}#sk-container-id-3 div.sk-serial {display: flex;flex-direction: column;align-items: center;background-color: white;padding-right: 0.2em;padding-left: 0.2em;position: relative;}#sk-container-id-3 div.sk-item {position: relative;z-index: 1;}#sk-container-id-3 div.sk-parallel {display: flex;align-items: stretch;justify-content: center;background-color: white;position: relative;}#sk-container-id-3 div.sk-item::before, #sk-container-id-3 div.sk-parallel-item::before {content: \"\";position: absolute;border-left: 1px solid gray;box-sizing: border-box;top: 0;bottom: 0;left: 50%;z-index: -1;}#sk-container-id-3 div.sk-parallel-item {display: flex;flex-direction: column;z-index: 1;position: relative;background-color: white;}#sk-container-id-3 div.sk-parallel-item:first-child::after {align-self: flex-end;width: 50%;}#sk-container-id-3 div.sk-parallel-item:last-child::after {align-self: flex-start;width: 50%;}#sk-container-id-3 div.sk-parallel-item:only-child::after {width: 0;}#sk-container-id-3 div.sk-dashed-wrapped {border: 1px dashed gray;margin: 0 0.4em 0.5em 0.4em;box-sizing: border-box;padding-bottom: 0.4em;background-color: white;}#sk-container-id-3 div.sk-label label {font-family: monospace;font-weight: bold;display: inline-block;line-height: 1.2em;}#sk-container-id-3 div.sk-label-container {text-align: center;}#sk-container-id-3 div.sk-container {/* jupyter's `normalize.less` sets `[hidden] { display: none; }` but bootstrap.min.css set `[hidden] { display: none !important; }` so we also need the `!important` here to be able to override the default hidden behavior on the sphinx rendered scikit-learn.org. See: https://github.com/scikit-learn/scikit-learn/issues/21755 */display: inline-block !important;position: relative;}#sk-container-id-3 div.sk-text-repr-fallback {display: none;}</style><div id=\"sk-container-id-3\" class=\"sk-top-container\"><div class=\"sk-text-repr-fallback\"><pre>DecisionTreeRegressor()</pre><b>In a Jupyter environment, please rerun this cell to show the HTML representation or trust the notebook. <br />On GitHub, the HTML representation is unable to render, please try loading this page with nbviewer.org.</b></div><div class=\"sk-container\" hidden><div class=\"sk-item\"><div class=\"sk-estimator sk-toggleable\"><input class=\"sk-toggleable__control sk-hidden--visually\" id=\"sk-estimator-id-3\" type=\"checkbox\" checked><label for=\"sk-estimator-id-3\" class=\"sk-toggleable__label sk-toggleable__label-arrow\">DecisionTreeRegressor</label><div class=\"sk-toggleable__content\"><pre>DecisionTreeRegressor()</pre></div></div></div></div></div>"
      ],
      "text/plain": [
       "DecisionTreeRegressor()"
      ]
     },
     "execution_count": 15,
     "metadata": {},
     "output_type": "execute_result"
    }
   ],
   "source": [
    "m_dtr = DecisionTreeRegressor()\n",
    "m_dtr.fit(X_train,y_train)"
   ]
  },
  {
   "cell_type": "code",
   "execution_count": 16,
   "metadata": {},
   "outputs": [
    {
     "name": "stdout",
     "output_type": "stream",
     "text": [
      "Train - MAE: 0.17539016246362762\n",
      "Train - RMSE: 3.3650975847220304\n",
      "Test - MAE: 139.30429305398442\n",
      "Test - RMSE: 217.06835457978195\n"
     ]
    }
   ],
   "source": [
    "from sklearn.metrics import r2_score, mean_squared_error, mean_absolute_error\n",
    "\n",
    "# Ajuste de modelo y conjuntos de datos de entrenamiento y prueba\n",
    "# X_train, X_test, y_train, y_test representan tus datos\n",
    "\n",
    "# Entrenar modelo con X_train y y_train\n",
    "\n",
    "# Realizar predicciones en el conjunto de entrenamiento\n",
    "y_pred_train = m_dtr.predict(X_train)\n",
    "\n",
    "# Realizar predicciones en el conjunto de prueba\n",
    "y_pred_test = m_dtr.predict(X_test)\n",
    "\n",
    "# Desescalar los valores predichos y los valores reales tanto para entrenamiento como para prueba\n",
    "y_train_o = scaler.inverse_transform(y_train)\n",
    "y_pred_train = y_pred_train.reshape(-1, 1)\n",
    "y_pred_train_o = scaler.inverse_transform(y_pred_train)\n",
    "\n",
    "y_test_o = scaler.inverse_transform(y_test)\n",
    "y_pred_test = y_pred_test.reshape(-1, 1)\n",
    "y_pred_test_o = scaler.inverse_transform(y_pred_test)\n",
    "\n",
    "# Calcular métricas R^2, MAE y RMSE para el conjunto de entrenamiento\n",
    "r2_train = r2_score(y_train_o, y_pred_train_o)\n",
    "mae_train = mean_absolute_error(y_train_o, y_pred_train_o)\n",
    "rmse_train = np.sqrt(mean_squared_error(y_train_o, y_pred_train_o))\n",
    "\n",
    "# Calcular métricas R^2, MAE y RMSE para el conjunto de prueba\n",
    "r2_test = r2_score(y_test_o, y_pred_test_o)\n",
    "mae_test = mean_absolute_error(y_test_o, y_pred_test_o)\n",
    "rmse_test = np.sqrt(mean_squared_error(y_test_o, y_pred_test_o))\n",
    "\n",
    "# Imprimir los resultados para el conjunto de entrenamiento\n",
    "\n",
    "print(\"Train - MAE:\", mae_train)\n",
    "print(\"Train - RMSE:\", rmse_train)\n",
    "\n",
    "\n",
    "# Imprimir los resultados para el conjunto de prueba\n",
    "\n",
    "print(\"Test - MAE:\", mae_test)\n",
    "print(\"Test - RMSE:\", rmse_test)"
   ]
  },
  {
   "cell_type": "markdown",
   "metadata": {},
   "source": [
    "# <h1> SVR"
   ]
  },
  {
   "cell_type": "code",
   "execution_count": 17,
   "metadata": {},
   "outputs": [
    {
     "name": "stderr",
     "output_type": "stream",
     "text": [
      "c:\\Users\\Dell\\AppData\\Local\\Programs\\Python\\Python310\\lib\\site-packages\\sklearn\\utils\\validation.py:1184: DataConversionWarning: A column-vector y was passed when a 1d array was expected. Please change the shape of y to (n_samples, ), for example using ravel().\n",
      "  y = column_or_1d(y, warn=True)\n"
     ]
    },
    {
     "data": {
      "text/html": [
       "<style>#sk-container-id-4 {color: black;}#sk-container-id-4 pre{padding: 0;}#sk-container-id-4 div.sk-toggleable {background-color: white;}#sk-container-id-4 label.sk-toggleable__label {cursor: pointer;display: block;width: 100%;margin-bottom: 0;padding: 0.3em;box-sizing: border-box;text-align: center;}#sk-container-id-4 label.sk-toggleable__label-arrow:before {content: \"▸\";float: left;margin-right: 0.25em;color: #696969;}#sk-container-id-4 label.sk-toggleable__label-arrow:hover:before {color: black;}#sk-container-id-4 div.sk-estimator:hover label.sk-toggleable__label-arrow:before {color: black;}#sk-container-id-4 div.sk-toggleable__content {max-height: 0;max-width: 0;overflow: hidden;text-align: left;background-color: #f0f8ff;}#sk-container-id-4 div.sk-toggleable__content pre {margin: 0.2em;color: black;border-radius: 0.25em;background-color: #f0f8ff;}#sk-container-id-4 input.sk-toggleable__control:checked~div.sk-toggleable__content {max-height: 200px;max-width: 100%;overflow: auto;}#sk-container-id-4 input.sk-toggleable__control:checked~label.sk-toggleable__label-arrow:before {content: \"▾\";}#sk-container-id-4 div.sk-estimator input.sk-toggleable__control:checked~label.sk-toggleable__label {background-color: #d4ebff;}#sk-container-id-4 div.sk-label input.sk-toggleable__control:checked~label.sk-toggleable__label {background-color: #d4ebff;}#sk-container-id-4 input.sk-hidden--visually {border: 0;clip: rect(1px 1px 1px 1px);clip: rect(1px, 1px, 1px, 1px);height: 1px;margin: -1px;overflow: hidden;padding: 0;position: absolute;width: 1px;}#sk-container-id-4 div.sk-estimator {font-family: monospace;background-color: #f0f8ff;border: 1px dotted black;border-radius: 0.25em;box-sizing: border-box;margin-bottom: 0.5em;}#sk-container-id-4 div.sk-estimator:hover {background-color: #d4ebff;}#sk-container-id-4 div.sk-parallel-item::after {content: \"\";width: 100%;border-bottom: 1px solid gray;flex-grow: 1;}#sk-container-id-4 div.sk-label:hover label.sk-toggleable__label {background-color: #d4ebff;}#sk-container-id-4 div.sk-serial::before {content: \"\";position: absolute;border-left: 1px solid gray;box-sizing: border-box;top: 0;bottom: 0;left: 50%;z-index: 0;}#sk-container-id-4 div.sk-serial {display: flex;flex-direction: column;align-items: center;background-color: white;padding-right: 0.2em;padding-left: 0.2em;position: relative;}#sk-container-id-4 div.sk-item {position: relative;z-index: 1;}#sk-container-id-4 div.sk-parallel {display: flex;align-items: stretch;justify-content: center;background-color: white;position: relative;}#sk-container-id-4 div.sk-item::before, #sk-container-id-4 div.sk-parallel-item::before {content: \"\";position: absolute;border-left: 1px solid gray;box-sizing: border-box;top: 0;bottom: 0;left: 50%;z-index: -1;}#sk-container-id-4 div.sk-parallel-item {display: flex;flex-direction: column;z-index: 1;position: relative;background-color: white;}#sk-container-id-4 div.sk-parallel-item:first-child::after {align-self: flex-end;width: 50%;}#sk-container-id-4 div.sk-parallel-item:last-child::after {align-self: flex-start;width: 50%;}#sk-container-id-4 div.sk-parallel-item:only-child::after {width: 0;}#sk-container-id-4 div.sk-dashed-wrapped {border: 1px dashed gray;margin: 0 0.4em 0.5em 0.4em;box-sizing: border-box;padding-bottom: 0.4em;background-color: white;}#sk-container-id-4 div.sk-label label {font-family: monospace;font-weight: bold;display: inline-block;line-height: 1.2em;}#sk-container-id-4 div.sk-label-container {text-align: center;}#sk-container-id-4 div.sk-container {/* jupyter's `normalize.less` sets `[hidden] { display: none; }` but bootstrap.min.css set `[hidden] { display: none !important; }` so we also need the `!important` here to be able to override the default hidden behavior on the sphinx rendered scikit-learn.org. See: https://github.com/scikit-learn/scikit-learn/issues/21755 */display: inline-block !important;position: relative;}#sk-container-id-4 div.sk-text-repr-fallback {display: none;}</style><div id=\"sk-container-id-4\" class=\"sk-top-container\"><div class=\"sk-text-repr-fallback\"><pre>SVR()</pre><b>In a Jupyter environment, please rerun this cell to show the HTML representation or trust the notebook. <br />On GitHub, the HTML representation is unable to render, please try loading this page with nbviewer.org.</b></div><div class=\"sk-container\" hidden><div class=\"sk-item\"><div class=\"sk-estimator sk-toggleable\"><input class=\"sk-toggleable__control sk-hidden--visually\" id=\"sk-estimator-id-4\" type=\"checkbox\" checked><label for=\"sk-estimator-id-4\" class=\"sk-toggleable__label sk-toggleable__label-arrow\">SVR</label><div class=\"sk-toggleable__content\"><pre>SVR()</pre></div></div></div></div></div>"
      ],
      "text/plain": [
       "SVR()"
      ]
     },
     "execution_count": 17,
     "metadata": {},
     "output_type": "execute_result"
    }
   ],
   "source": [
    "m_svr=SVR()\n",
    "m_svr.fit(X_train,y_train)"
   ]
  },
  {
   "cell_type": "code",
   "execution_count": 18,
   "metadata": {},
   "outputs": [
    {
     "name": "stdout",
     "output_type": "stream",
     "text": [
      "Train - MAE: 136.72786753416187\n",
      "Train - RMSE: 161.21065699345385\n",
      "Test - MAE: 153.23973007820848\n",
      "Test - RMSE: 202.1440223767346\n"
     ]
    }
   ],
   "source": [
    "from sklearn.metrics import r2_score, mean_squared_error, mean_absolute_error\n",
    "\n",
    "# Ajuste de modelo y conjuntos de datos de entrenamiento y prueba\n",
    "# X_train, X_test, y_train, y_test representan tus datos\n",
    "\n",
    "# Entrenar modelo con X_train y y_train\n",
    "\n",
    "# Realizar predicciones en el conjunto de entrenamiento\n",
    "y_pred_train = m_svr.predict(X_train)\n",
    "\n",
    "# Realizar predicciones en el conjunto de prueba\n",
    "y_pred_test = m_svr.predict(X_test)\n",
    "\n",
    "# Desescalar los valores predichos y los valores reales tanto para entrenamiento como para prueba\n",
    "y_train_o = scaler.inverse_transform(y_train)\n",
    "y_pred_train = y_pred_train.reshape(-1, 1)\n",
    "y_pred_train_o = scaler.inverse_transform(y_pred_train)\n",
    "\n",
    "y_test_o = scaler.inverse_transform(y_test)\n",
    "y_pred_test = y_pred_test.reshape(-1, 1)\n",
    "y_pred_test_o = scaler.inverse_transform(y_pred_test)\n",
    "\n",
    "# Calcular métricas R^2, MAE y RMSE para el conjunto de entrenamiento\n",
    "r2_train = r2_score(y_train_o, y_pred_train_o)\n",
    "mae_train = mean_absolute_error(y_train_o, y_pred_train_o)\n",
    "rmse_train = np.sqrt(mean_squared_error(y_train_o, y_pred_train_o))\n",
    "\n",
    "# Calcular métricas R^2, MAE y RMSE para el conjunto de prueba\n",
    "r2_test = r2_score(y_test_o, y_pred_test_o)\n",
    "mae_test = mean_absolute_error(y_test_o, y_pred_test_o)\n",
    "rmse_test = np.sqrt(mean_squared_error(y_test_o, y_pred_test_o))\n",
    "\n",
    "# Imprimir los resultados para el conjunto de entrenamiento\n",
    "\n",
    "print(\"Train - MAE:\", mae_train)\n",
    "print(\"Train - RMSE:\", rmse_train)\n",
    "\n",
    "\n",
    "# Imprimir los resultados para el conjunto de prueba\n",
    "\n",
    "print(\"Test - MAE:\", mae_test)\n",
    "print(\"Test - RMSE:\", rmse_test)"
   ]
  },
  {
   "cell_type": "markdown",
   "metadata": {},
   "source": [
    "# <h1> RandomForestRegressor"
   ]
  },
  {
   "cell_type": "code",
   "execution_count": 19,
   "metadata": {},
   "outputs": [
    {
     "name": "stderr",
     "output_type": "stream",
     "text": [
      "c:\\Users\\Dell\\AppData\\Local\\Programs\\Python\\Python310\\lib\\site-packages\\sklearn\\base.py:1151: DataConversionWarning: A column-vector y was passed when a 1d array was expected. Please change the shape of y to (n_samples,), for example using ravel().\n",
      "  return fit_method(estimator, *args, **kwargs)\n"
     ]
    },
    {
     "data": {
      "text/html": [
       "<style>#sk-container-id-5 {color: black;}#sk-container-id-5 pre{padding: 0;}#sk-container-id-5 div.sk-toggleable {background-color: white;}#sk-container-id-5 label.sk-toggleable__label {cursor: pointer;display: block;width: 100%;margin-bottom: 0;padding: 0.3em;box-sizing: border-box;text-align: center;}#sk-container-id-5 label.sk-toggleable__label-arrow:before {content: \"▸\";float: left;margin-right: 0.25em;color: #696969;}#sk-container-id-5 label.sk-toggleable__label-arrow:hover:before {color: black;}#sk-container-id-5 div.sk-estimator:hover label.sk-toggleable__label-arrow:before {color: black;}#sk-container-id-5 div.sk-toggleable__content {max-height: 0;max-width: 0;overflow: hidden;text-align: left;background-color: #f0f8ff;}#sk-container-id-5 div.sk-toggleable__content pre {margin: 0.2em;color: black;border-radius: 0.25em;background-color: #f0f8ff;}#sk-container-id-5 input.sk-toggleable__control:checked~div.sk-toggleable__content {max-height: 200px;max-width: 100%;overflow: auto;}#sk-container-id-5 input.sk-toggleable__control:checked~label.sk-toggleable__label-arrow:before {content: \"▾\";}#sk-container-id-5 div.sk-estimator input.sk-toggleable__control:checked~label.sk-toggleable__label {background-color: #d4ebff;}#sk-container-id-5 div.sk-label input.sk-toggleable__control:checked~label.sk-toggleable__label {background-color: #d4ebff;}#sk-container-id-5 input.sk-hidden--visually {border: 0;clip: rect(1px 1px 1px 1px);clip: rect(1px, 1px, 1px, 1px);height: 1px;margin: -1px;overflow: hidden;padding: 0;position: absolute;width: 1px;}#sk-container-id-5 div.sk-estimator {font-family: monospace;background-color: #f0f8ff;border: 1px dotted black;border-radius: 0.25em;box-sizing: border-box;margin-bottom: 0.5em;}#sk-container-id-5 div.sk-estimator:hover {background-color: #d4ebff;}#sk-container-id-5 div.sk-parallel-item::after {content: \"\";width: 100%;border-bottom: 1px solid gray;flex-grow: 1;}#sk-container-id-5 div.sk-label:hover label.sk-toggleable__label {background-color: #d4ebff;}#sk-container-id-5 div.sk-serial::before {content: \"\";position: absolute;border-left: 1px solid gray;box-sizing: border-box;top: 0;bottom: 0;left: 50%;z-index: 0;}#sk-container-id-5 div.sk-serial {display: flex;flex-direction: column;align-items: center;background-color: white;padding-right: 0.2em;padding-left: 0.2em;position: relative;}#sk-container-id-5 div.sk-item {position: relative;z-index: 1;}#sk-container-id-5 div.sk-parallel {display: flex;align-items: stretch;justify-content: center;background-color: white;position: relative;}#sk-container-id-5 div.sk-item::before, #sk-container-id-5 div.sk-parallel-item::before {content: \"\";position: absolute;border-left: 1px solid gray;box-sizing: border-box;top: 0;bottom: 0;left: 50%;z-index: -1;}#sk-container-id-5 div.sk-parallel-item {display: flex;flex-direction: column;z-index: 1;position: relative;background-color: white;}#sk-container-id-5 div.sk-parallel-item:first-child::after {align-self: flex-end;width: 50%;}#sk-container-id-5 div.sk-parallel-item:last-child::after {align-self: flex-start;width: 50%;}#sk-container-id-5 div.sk-parallel-item:only-child::after {width: 0;}#sk-container-id-5 div.sk-dashed-wrapped {border: 1px dashed gray;margin: 0 0.4em 0.5em 0.4em;box-sizing: border-box;padding-bottom: 0.4em;background-color: white;}#sk-container-id-5 div.sk-label label {font-family: monospace;font-weight: bold;display: inline-block;line-height: 1.2em;}#sk-container-id-5 div.sk-label-container {text-align: center;}#sk-container-id-5 div.sk-container {/* jupyter's `normalize.less` sets `[hidden] { display: none; }` but bootstrap.min.css set `[hidden] { display: none !important; }` so we also need the `!important` here to be able to override the default hidden behavior on the sphinx rendered scikit-learn.org. See: https://github.com/scikit-learn/scikit-learn/issues/21755 */display: inline-block !important;position: relative;}#sk-container-id-5 div.sk-text-repr-fallback {display: none;}</style><div id=\"sk-container-id-5\" class=\"sk-top-container\"><div class=\"sk-text-repr-fallback\"><pre>RandomForestRegressor()</pre><b>In a Jupyter environment, please rerun this cell to show the HTML representation or trust the notebook. <br />On GitHub, the HTML representation is unable to render, please try loading this page with nbviewer.org.</b></div><div class=\"sk-container\" hidden><div class=\"sk-item\"><div class=\"sk-estimator sk-toggleable\"><input class=\"sk-toggleable__control sk-hidden--visually\" id=\"sk-estimator-id-5\" type=\"checkbox\" checked><label for=\"sk-estimator-id-5\" class=\"sk-toggleable__label sk-toggleable__label-arrow\">RandomForestRegressor</label><div class=\"sk-toggleable__content\"><pre>RandomForestRegressor()</pre></div></div></div></div></div>"
      ],
      "text/plain": [
       "RandomForestRegressor()"
      ]
     },
     "execution_count": 19,
     "metadata": {},
     "output_type": "execute_result"
    }
   ],
   "source": [
    "m_rfr=RandomForestRegressor()\n",
    "m_rfr.fit(X_train,y_train)"
   ]
  },
  {
   "cell_type": "code",
   "execution_count": 20,
   "metadata": {},
   "outputs": [
    {
     "name": "stdout",
     "output_type": "stream",
     "text": [
      "Train - MAE: 41.40051419043501\n",
      "Train - RMSE: 65.25063160791073\n",
      "Test - MAE: 108.27293757055935\n",
      "Test - RMSE: 166.17475133227347\n"
     ]
    }
   ],
   "source": [
    "from sklearn.metrics import r2_score, mean_squared_error, mean_absolute_error\n",
    "\n",
    "# Ajuste de modelo y conjuntos de datos de entrenamiento y prueba\n",
    "# X_train, X_test, y_train, y_test representan tus datos\n",
    "\n",
    "# Entrenar modelo con X_train y y_train\n",
    "\n",
    "# Realizar predicciones en el conjunto de entrenamiento\n",
    "y_pred_train = m_rfr.predict(X_train)\n",
    "\n",
    "# Realizar predicciones en el conjunto de prueba\n",
    "y_pred_test = m_rfr.predict(X_test)\n",
    "\n",
    "# Desescalar los valores predichos y los valores reales tanto para entrenamiento como para prueba\n",
    "y_train_o = scaler.inverse_transform(y_train)\n",
    "y_pred_train = y_pred_train.reshape(-1, 1)\n",
    "y_pred_train_o = scaler.inverse_transform(y_pred_train)\n",
    "\n",
    "y_test_o = scaler.inverse_transform(y_test)\n",
    "y_pred_test = y_pred_test.reshape(-1, 1)\n",
    "y_pred_test_o = scaler.inverse_transform(y_pred_test)\n",
    "\n",
    "# Calcular métricas R^2, MAE y RMSE para el conjunto de entrenamiento\n",
    "r2_train = r2_score(y_train_o, y_pred_train_o)\n",
    "mae_train = mean_absolute_error(y_train_o, y_pred_train_o)\n",
    "rmse_train = np.sqrt(mean_squared_error(y_train_o, y_pred_train_o))\n",
    "\n",
    "# Calcular métricas R^2, MAE y RMSE para el conjunto de prueba\n",
    "r2_test = r2_score(y_test_o, y_pred_test_o)\n",
    "mae_test = mean_absolute_error(y_test_o, y_pred_test_o)\n",
    "rmse_test = np.sqrt(mean_squared_error(y_test_o, y_pred_test_o))\n",
    "\n",
    "# Imprimir los resultados para el conjunto de entrenamiento\n",
    "\n",
    "print(\"Train - MAE:\", mae_train)\n",
    "print(\"Train - RMSE:\", rmse_train)\n",
    "\n",
    "\n",
    "# Imprimir los resultados para el conjunto de prueba\n",
    "\n",
    "print(\"Test - MAE:\", mae_test)\n",
    "print(\"Test - RMSE:\", rmse_test)"
   ]
  }
 ],
 "metadata": {
  "kernelspec": {
   "display_name": "Python 3",
   "language": "python",
   "name": "python3"
  },
  "language_info": {
   "codemirror_mode": {
    "name": "ipython",
    "version": 3
   },
   "file_extension": ".py",
   "mimetype": "text/x-python",
   "name": "python",
   "nbconvert_exporter": "python",
   "pygments_lexer": "ipython3",
   "version": "3.10.7"
  }
 },
 "nbformat": 4,
 "nbformat_minor": 2
}
