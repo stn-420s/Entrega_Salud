{
  "cells": [
    {
      "cell_type": "code",
      "execution_count": 1,
      "metadata": {
        "id": "HycDHFOo-ipI"
      },
      "outputs": [],
      "source": [
        "# Librerias generales\n",
        "import pandas as pd\n",
        "import numpy as np\n",
        "\n",
        "# Librerias y visualización\n",
        "import seaborn as sns\n",
        "import matplotlib.pyplot as plt"
      ]
    },
    {
      "cell_type": "code",
      "execution_count": 2,
      "metadata": {
        "colab": {
          "base_uri": "https://localhost:8080/",
          "height": 791
        },
        "id": "YACqKIYC_bRq",
        "outputId": "83b7ffeb-d84a-4d05-ed63-fdf2194a3443"
      },
      "outputs": [
        {
          "name": "stderr",
          "output_type": "stream",
          "text": [
            "C:\\Users\\Dell\\AppData\\Local\\Temp\\ipykernel_9184\\349889428.py:2: DtypeWarning: Columns (4,6,7,9,10,11,12) have mixed types. Specify dtype option on import or set low_memory=False.\n",
            "  df_usuarios = pd.read_csv('DBs\\RETO_df_usuarios.csv')\n"
          ]
        },
        {
          "data": {
            "text/html": [
              "<div>\n",
              "<style scoped>\n",
              "    .dataframe tbody tr th:only-of-type {\n",
              "        vertical-align: middle;\n",
              "    }\n",
              "\n",
              "    .dataframe tbody tr th {\n",
              "        vertical-align: top;\n",
              "    }\n",
              "\n",
              "    .dataframe thead th {\n",
              "        text-align: right;\n",
              "    }\n",
              "</style>\n",
              "<table border=\"1\" class=\"dataframe\">\n",
              "  <thead>\n",
              "    <tr style=\"text-align: right;\">\n",
              "      <th></th>\n",
              "      <th>MES</th>\n",
              "      <th>YEAR</th>\n",
              "      <th>NRODOC</th>\n",
              "      <th>SEXO</th>\n",
              "      <th>FECHA NACIMIENTO</th>\n",
              "      <th>EDAD</th>\n",
              "      <th>DEPARTAMENTO</th>\n",
              "      <th>MUNICIPIO</th>\n",
              "      <th>BARRIO</th>\n",
              "      <th>FECHA INICIO AL PGP</th>\n",
              "      <th>FECHA PRIMERA CLASE FUNCIONAL</th>\n",
              "      <th>PRIMERA CLASE FUNCIONAL</th>\n",
              "      <th>FECHA ÚLTIMA CLASE FUNCIONAL</th>\n",
              "      <th>ÚLTIMA CLASE FUNCIONAL</th>\n",
              "      <th>CICLO_VITAL</th>\n",
              "      <th>QUINQUENIO</th>\n",
              "    </tr>\n",
              "  </thead>\n",
              "  <tbody>\n",
              "    <tr>\n",
              "      <th>0</th>\n",
              "      <td>ABRIL</td>\n",
              "      <td>2017</td>\n",
              "      <td>306221</td>\n",
              "      <td>F</td>\n",
              "      <td>1938-09-09 00:00:00</td>\n",
              "      <td>NaN</td>\n",
              "      <td>NaN</td>\n",
              "      <td>NaN</td>\n",
              "      <td>NaN</td>\n",
              "      <td>NaN</td>\n",
              "      <td>NaN</td>\n",
              "      <td>NaN</td>\n",
              "      <td>NaN</td>\n",
              "      <td>NaN</td>\n",
              "      <td>NaN</td>\n",
              "      <td>NaN</td>\n",
              "    </tr>\n",
              "    <tr>\n",
              "      <th>1</th>\n",
              "      <td>ABRIL</td>\n",
              "      <td>2017</td>\n",
              "      <td>306222</td>\n",
              "      <td>F</td>\n",
              "      <td>1974-07-03 00:00:00</td>\n",
              "      <td>NaN</td>\n",
              "      <td>NaN</td>\n",
              "      <td>NaN</td>\n",
              "      <td>NaN</td>\n",
              "      <td>NaN</td>\n",
              "      <td>NaN</td>\n",
              "      <td>NaN</td>\n",
              "      <td>NaN</td>\n",
              "      <td>NaN</td>\n",
              "      <td>NaN</td>\n",
              "      <td>NaN</td>\n",
              "    </tr>\n",
              "    <tr>\n",
              "      <th>2</th>\n",
              "      <td>ABRIL</td>\n",
              "      <td>2017</td>\n",
              "      <td>306223</td>\n",
              "      <td>F</td>\n",
              "      <td>1930-08-24 00:00:00</td>\n",
              "      <td>NaN</td>\n",
              "      <td>NaN</td>\n",
              "      <td>NaN</td>\n",
              "      <td>NaN</td>\n",
              "      <td>NaN</td>\n",
              "      <td>NaN</td>\n",
              "      <td>NaN</td>\n",
              "      <td>NaN</td>\n",
              "      <td>NaN</td>\n",
              "      <td>NaN</td>\n",
              "      <td>NaN</td>\n",
              "    </tr>\n",
              "    <tr>\n",
              "      <th>3</th>\n",
              "      <td>ABRIL</td>\n",
              "      <td>2017</td>\n",
              "      <td>306224</td>\n",
              "      <td>F</td>\n",
              "      <td>1979-12-01 00:00:00</td>\n",
              "      <td>NaN</td>\n",
              "      <td>NaN</td>\n",
              "      <td>NaN</td>\n",
              "      <td>NaN</td>\n",
              "      <td>NaN</td>\n",
              "      <td>NaN</td>\n",
              "      <td>NaN</td>\n",
              "      <td>NaN</td>\n",
              "      <td>NaN</td>\n",
              "      <td>NaN</td>\n",
              "      <td>NaN</td>\n",
              "    </tr>\n",
              "    <tr>\n",
              "      <th>4</th>\n",
              "      <td>ABRIL</td>\n",
              "      <td>2017</td>\n",
              "      <td>306225</td>\n",
              "      <td>M</td>\n",
              "      <td>1943-06-01 00:00:00</td>\n",
              "      <td>NaN</td>\n",
              "      <td>NaN</td>\n",
              "      <td>NaN</td>\n",
              "      <td>NaN</td>\n",
              "      <td>NaN</td>\n",
              "      <td>NaN</td>\n",
              "      <td>NaN</td>\n",
              "      <td>NaN</td>\n",
              "      <td>NaN</td>\n",
              "      <td>NaN</td>\n",
              "      <td>NaN</td>\n",
              "    </tr>\n",
              "    <tr>\n",
              "      <th>...</th>\n",
              "      <td>...</td>\n",
              "      <td>...</td>\n",
              "      <td>...</td>\n",
              "      <td>...</td>\n",
              "      <td>...</td>\n",
              "      <td>...</td>\n",
              "      <td>...</td>\n",
              "      <td>...</td>\n",
              "      <td>...</td>\n",
              "      <td>...</td>\n",
              "      <td>...</td>\n",
              "      <td>...</td>\n",
              "      <td>...</td>\n",
              "      <td>...</td>\n",
              "      <td>...</td>\n",
              "      <td>...</td>\n",
              "    </tr>\n",
              "    <tr>\n",
              "      <th>183906</th>\n",
              "      <td>JUNIO</td>\n",
              "      <td>2022</td>\n",
              "      <td>307482</td>\n",
              "      <td>F</td>\n",
              "      <td>1941-03-26 00:00:00</td>\n",
              "      <td>81.0</td>\n",
              "      <td>ANTIOQUIA</td>\n",
              "      <td>MEDELLIN</td>\n",
              "      <td>NaN</td>\n",
              "      <td>2017-04-01 00:00:00</td>\n",
              "      <td>2017-08-23 00:00:00</td>\n",
              "      <td>CLASE FUNCIONAL 2B</td>\n",
              "      <td>2022-04-22 00:00:00</td>\n",
              "      <td>CLASE FUNCIONAL 2A</td>\n",
              "      <td>Vejez</td>\n",
              "      <td>80-84</td>\n",
              "    </tr>\n",
              "    <tr>\n",
              "      <th>183907</th>\n",
              "      <td>JUNIO</td>\n",
              "      <td>2022</td>\n",
              "      <td>313801</td>\n",
              "      <td>F</td>\n",
              "      <td>1999-04-13 00:00:00</td>\n",
              "      <td>23.0</td>\n",
              "      <td>ANTIOQUIA</td>\n",
              "      <td>NaN</td>\n",
              "      <td>NaN</td>\n",
              "      <td>2021-09-02 00:00:00</td>\n",
              "      <td>2021-10-26 00:00:00</td>\n",
              "      <td>CLASE FUNCIONAL 1</td>\n",
              "      <td>2022-01-27 00:00:00</td>\n",
              "      <td>CLASE FUNCIONAL 1</td>\n",
              "      <td>Juventud</td>\n",
              "      <td>20-24</td>\n",
              "    </tr>\n",
              "    <tr>\n",
              "      <th>183908</th>\n",
              "      <td>JUNIO</td>\n",
              "      <td>2022</td>\n",
              "      <td>307738</td>\n",
              "      <td>F</td>\n",
              "      <td>1943-09-11 00:00:00</td>\n",
              "      <td>78.0</td>\n",
              "      <td>ANTIOQUIA</td>\n",
              "      <td>MEDELLIN</td>\n",
              "      <td>NaN</td>\n",
              "      <td>2017-04-01 00:00:00</td>\n",
              "      <td>2017-06-14 00:00:00</td>\n",
              "      <td>CLASE FUNCIONAL 2B</td>\n",
              "      <td>2022-01-06 00:00:00</td>\n",
              "      <td>CLASE FUNCIONAL 2A</td>\n",
              "      <td>Vejez</td>\n",
              "      <td>75-79</td>\n",
              "    </tr>\n",
              "    <tr>\n",
              "      <th>183909</th>\n",
              "      <td>JUNIO</td>\n",
              "      <td>2022</td>\n",
              "      <td>311656</td>\n",
              "      <td>M</td>\n",
              "      <td>1940-05-26 00:00:00</td>\n",
              "      <td>82.0</td>\n",
              "      <td>ANTIOQUIA</td>\n",
              "      <td>MEDELLIN</td>\n",
              "      <td>NaN</td>\n",
              "      <td>2018-01-01 00:00:00</td>\n",
              "      <td>2018-02-21 00:00:00</td>\n",
              "      <td>CLASE FUNCIONAL 2A</td>\n",
              "      <td>2022-03-17 00:00:00</td>\n",
              "      <td>CLASE FUNCIONAL 2B</td>\n",
              "      <td>Vejez</td>\n",
              "      <td>80-84</td>\n",
              "    </tr>\n",
              "    <tr>\n",
              "      <th>183910</th>\n",
              "      <td>JUNIO</td>\n",
              "      <td>2022</td>\n",
              "      <td>309230</td>\n",
              "      <td>M</td>\n",
              "      <td>1957-05-26 00:00:00</td>\n",
              "      <td>65.0</td>\n",
              "      <td>ANTIOQUIA</td>\n",
              "      <td>ENVIGADO</td>\n",
              "      <td>ENVIGADO LA MAGNOLIA</td>\n",
              "      <td>2017-04-01 00:00:00</td>\n",
              "      <td>2018-08-13 00:00:00</td>\n",
              "      <td>CLASE FUNCIONAL 2A</td>\n",
              "      <td>2022-02-09 00:00:00</td>\n",
              "      <td>CLASE FUNCIONAL 2B</td>\n",
              "      <td>Vejez</td>\n",
              "      <td>65-69</td>\n",
              "    </tr>\n",
              "  </tbody>\n",
              "</table>\n",
              "<p>183911 rows × 16 columns</p>\n",
              "</div>"
            ],
            "text/plain": [
              "          MES  YEAR  NRODOC SEXO     FECHA NACIMIENTO  EDAD DEPARTAMENTO  \\\n",
              "0       ABRIL  2017  306221    F  1938-09-09 00:00:00   NaN          NaN   \n",
              "1       ABRIL  2017  306222    F  1974-07-03 00:00:00   NaN          NaN   \n",
              "2       ABRIL  2017  306223    F  1930-08-24 00:00:00   NaN          NaN   \n",
              "3       ABRIL  2017  306224    F  1979-12-01 00:00:00   NaN          NaN   \n",
              "4       ABRIL  2017  306225    M  1943-06-01 00:00:00   NaN          NaN   \n",
              "...       ...   ...     ...  ...                  ...   ...          ...   \n",
              "183906  JUNIO  2022  307482    F  1941-03-26 00:00:00  81.0    ANTIOQUIA   \n",
              "183907  JUNIO  2022  313801    F  1999-04-13 00:00:00  23.0    ANTIOQUIA   \n",
              "183908  JUNIO  2022  307738    F  1943-09-11 00:00:00  78.0    ANTIOQUIA   \n",
              "183909  JUNIO  2022  311656    M  1940-05-26 00:00:00  82.0    ANTIOQUIA   \n",
              "183910  JUNIO  2022  309230    M  1957-05-26 00:00:00  65.0    ANTIOQUIA   \n",
              "\n",
              "       MUNICIPIO                BARRIO  FECHA INICIO AL PGP  \\\n",
              "0            NaN                   NaN                  NaN   \n",
              "1            NaN                   NaN                  NaN   \n",
              "2            NaN                   NaN                  NaN   \n",
              "3            NaN                   NaN                  NaN   \n",
              "4            NaN                   NaN                  NaN   \n",
              "...          ...                   ...                  ...   \n",
              "183906  MEDELLIN                   NaN  2017-04-01 00:00:00   \n",
              "183907       NaN                   NaN  2021-09-02 00:00:00   \n",
              "183908  MEDELLIN                   NaN  2017-04-01 00:00:00   \n",
              "183909  MEDELLIN                   NaN  2018-01-01 00:00:00   \n",
              "183910  ENVIGADO  ENVIGADO LA MAGNOLIA  2017-04-01 00:00:00   \n",
              "\n",
              "       FECHA PRIMERA CLASE FUNCIONAL PRIMERA CLASE FUNCIONAL  \\\n",
              "0                                NaN                     NaN   \n",
              "1                                NaN                     NaN   \n",
              "2                                NaN                     NaN   \n",
              "3                                NaN                     NaN   \n",
              "4                                NaN                     NaN   \n",
              "...                              ...                     ...   \n",
              "183906           2017-08-23 00:00:00      CLASE FUNCIONAL 2B   \n",
              "183907           2021-10-26 00:00:00       CLASE FUNCIONAL 1   \n",
              "183908           2017-06-14 00:00:00      CLASE FUNCIONAL 2B   \n",
              "183909           2018-02-21 00:00:00      CLASE FUNCIONAL 2A   \n",
              "183910           2018-08-13 00:00:00      CLASE FUNCIONAL 2A   \n",
              "\n",
              "       FECHA ÚLTIMA CLASE FUNCIONAL ÚLTIMA CLASE FUNCIONAL CICLO_VITAL  \\\n",
              "0                               NaN                    NaN         NaN   \n",
              "1                               NaN                    NaN         NaN   \n",
              "2                               NaN                    NaN         NaN   \n",
              "3                               NaN                    NaN         NaN   \n",
              "4                               NaN                    NaN         NaN   \n",
              "...                             ...                    ...         ...   \n",
              "183906          2022-04-22 00:00:00     CLASE FUNCIONAL 2A       Vejez   \n",
              "183907          2022-01-27 00:00:00      CLASE FUNCIONAL 1    Juventud   \n",
              "183908          2022-01-06 00:00:00     CLASE FUNCIONAL 2A       Vejez   \n",
              "183909          2022-03-17 00:00:00     CLASE FUNCIONAL 2B       Vejez   \n",
              "183910          2022-02-09 00:00:00     CLASE FUNCIONAL 2B       Vejez   \n",
              "\n",
              "       QUINQUENIO  \n",
              "0             NaN  \n",
              "1             NaN  \n",
              "2             NaN  \n",
              "3             NaN  \n",
              "4             NaN  \n",
              "...           ...  \n",
              "183906      80-84  \n",
              "183907      20-24  \n",
              "183908     75-79   \n",
              "183909      80-84  \n",
              "183910     65-69   \n",
              "\n",
              "[183911 rows x 16 columns]"
            ]
          },
          "execution_count": 2,
          "metadata": {},
          "output_type": "execute_result"
        }
      ],
      "source": [
        "# Leer base de datos\n",
        "df_usuarios = pd.read_csv('DBs\\RETO_df_usuarios.csv')\n",
        "df_usuarios"
      ]
    },
    {
      "cell_type": "code",
      "execution_count": 3,
      "metadata": {
        "colab": {
          "base_uri": "https://localhost:8080/"
        },
        "id": "gEXyZWUlEhRA",
        "outputId": "7c0f1054-df57-43af-c39e-cfd33ec82cb8"
      },
      "outputs": [
        {
          "data": {
            "text/plain": [
              "Index(['MES', 'YEAR', 'NRODOC', 'SEXO', 'FECHA NACIMIENTO', 'EDAD',\n",
              "       'DEPARTAMENTO', 'MUNICIPIO', 'BARRIO', 'FECHA INICIO AL PGP',\n",
              "       'FECHA PRIMERA CLASE FUNCIONAL', 'PRIMERA CLASE FUNCIONAL',\n",
              "       'FECHA ÚLTIMA CLASE FUNCIONAL', 'ÚLTIMA CLASE FUNCIONAL', 'CICLO_VITAL',\n",
              "       'QUINQUENIO'],\n",
              "      dtype='object')"
            ]
          },
          "execution_count": 3,
          "metadata": {},
          "output_type": "execute_result"
        }
      ],
      "source": [
        "# Se verifica que el nombre de las 16 columnas esten bien escritos\n",
        "df_usuarios.columns"
      ]
    },
    {
      "cell_type": "code",
      "execution_count": 4,
      "metadata": {
        "id": "wfe-2UjKuzw1"
      },
      "outputs": [],
      "source": [
        "# Se cambian los nombres de mayusculas a minisculas\n",
        "df_usuarios.columns = df_usuarios.columns.str.lower()"
      ]
    },
    {
      "cell_type": "code",
      "execution_count": 5,
      "metadata": {
        "id": "QB2Kygcpu4Qr"
      },
      "outputs": [],
      "source": [
        "# Función para quitar los espacios de los nombres y reemplazar por '_'\n",
        "def limpiar_nombre_columna(nombre):\n",
        "    nombre_limpio = nombre.replace(\" \", \"_\")  # Reemplazar espacios por guiones bajos\n",
        "    return nombre_limpio\n",
        "\n",
        "# Aplicar la función a los nombres de las columnas\n",
        "df_usuarios.columns = df_usuarios.columns.map(limpiar_nombre_columna)"
      ]
    },
    {
      "cell_type": "code",
      "execution_count": 6,
      "metadata": {
        "id": "op_XqwCBzLsT"
      },
      "outputs": [],
      "source": [
        "# Se corrigen los nombres que tienen tildes\n",
        "df_usuarios = df_usuarios.rename(columns={'fecha_última_clase_funcional': 'fecha_ultima_clase_funcional'})\n",
        "df_usuarios = df_usuarios.rename(columns={'última_clase_funcional': 'ultima_clase_funcional'})"
      ]
    },
    {
      "cell_type": "code",
      "execution_count": 7,
      "metadata": {
        "colab": {
          "base_uri": "https://localhost:8080/"
        },
        "id": "RvFh1Ts10Fu2",
        "outputId": "b4e0021e-efa7-40fd-b8aa-557ecbbf2878"
      },
      "outputs": [
        {
          "data": {
            "text/plain": [
              "Index(['mes', 'year', 'nrodoc', 'sexo', 'fecha_nacimiento', 'edad',\n",
              "       'departamento', 'municipio', 'barrio', 'fecha_inicio_al_pgp',\n",
              "       'fecha_primera_clase_funcional', 'primera_clase_funcional',\n",
              "       'fecha_ultima_clase_funcional', 'ultima_clase_funcional', 'ciclo_vital',\n",
              "       'quinquenio'],\n",
              "      dtype='object')"
            ]
          },
          "execution_count": 7,
          "metadata": {},
          "output_type": "execute_result"
        }
      ],
      "source": [
        "df_usuarios.columns"
      ]
    },
    {
      "cell_type": "code",
      "execution_count": 8,
      "metadata": {
        "colab": {
          "base_uri": "https://localhost:8080/",
          "height": 635
        },
        "id": "EGcqtV08MGUQ",
        "outputId": "5c32a65f-e6e7-4152-9ec3-952c5c373560"
      },
      "outputs": [
        {
          "data": {
            "text/html": [
              "<div>\n",
              "<style scoped>\n",
              "    .dataframe tbody tr th:only-of-type {\n",
              "        vertical-align: middle;\n",
              "    }\n",
              "\n",
              "    .dataframe tbody tr th {\n",
              "        vertical-align: top;\n",
              "    }\n",
              "\n",
              "    .dataframe thead th {\n",
              "        text-align: right;\n",
              "    }\n",
              "</style>\n",
              "<table border=\"1\" class=\"dataframe\">\n",
              "  <thead>\n",
              "    <tr style=\"text-align: right;\">\n",
              "      <th></th>\n",
              "      <th>mes</th>\n",
              "      <th>year</th>\n",
              "      <th>nrodoc</th>\n",
              "      <th>sexo</th>\n",
              "      <th>fecha_nacimiento</th>\n",
              "      <th>edad</th>\n",
              "      <th>departamento</th>\n",
              "      <th>municipio</th>\n",
              "      <th>barrio</th>\n",
              "      <th>fecha_inicio_al_pgp</th>\n",
              "      <th>fecha_primera_clase_funcional</th>\n",
              "      <th>primera_clase_funcional</th>\n",
              "      <th>fecha_ultima_clase_funcional</th>\n",
              "      <th>ultima_clase_funcional</th>\n",
              "      <th>ciclo_vital</th>\n",
              "      <th>quinquenio</th>\n",
              "    </tr>\n",
              "  </thead>\n",
              "  <tbody>\n",
              "    <tr>\n",
              "      <th>0</th>\n",
              "      <td>ABRIL</td>\n",
              "      <td>2017</td>\n",
              "      <td>306221</td>\n",
              "      <td>F</td>\n",
              "      <td>1938-09-09 00:00:00</td>\n",
              "      <td>NaN</td>\n",
              "      <td>NaN</td>\n",
              "      <td>NaN</td>\n",
              "      <td>NaN</td>\n",
              "      <td>NaN</td>\n",
              "      <td>NaN</td>\n",
              "      <td>NaN</td>\n",
              "      <td>NaN</td>\n",
              "      <td>NaN</td>\n",
              "      <td>NaN</td>\n",
              "      <td>NaN</td>\n",
              "    </tr>\n",
              "    <tr>\n",
              "      <th>1</th>\n",
              "      <td>ABRIL</td>\n",
              "      <td>2017</td>\n",
              "      <td>306222</td>\n",
              "      <td>F</td>\n",
              "      <td>1974-07-03 00:00:00</td>\n",
              "      <td>NaN</td>\n",
              "      <td>NaN</td>\n",
              "      <td>NaN</td>\n",
              "      <td>NaN</td>\n",
              "      <td>NaN</td>\n",
              "      <td>NaN</td>\n",
              "      <td>NaN</td>\n",
              "      <td>NaN</td>\n",
              "      <td>NaN</td>\n",
              "      <td>NaN</td>\n",
              "      <td>NaN</td>\n",
              "    </tr>\n",
              "    <tr>\n",
              "      <th>2</th>\n",
              "      <td>ABRIL</td>\n",
              "      <td>2017</td>\n",
              "      <td>306223</td>\n",
              "      <td>F</td>\n",
              "      <td>1930-08-24 00:00:00</td>\n",
              "      <td>NaN</td>\n",
              "      <td>NaN</td>\n",
              "      <td>NaN</td>\n",
              "      <td>NaN</td>\n",
              "      <td>NaN</td>\n",
              "      <td>NaN</td>\n",
              "      <td>NaN</td>\n",
              "      <td>NaN</td>\n",
              "      <td>NaN</td>\n",
              "      <td>NaN</td>\n",
              "      <td>NaN</td>\n",
              "    </tr>\n",
              "    <tr>\n",
              "      <th>3</th>\n",
              "      <td>ABRIL</td>\n",
              "      <td>2017</td>\n",
              "      <td>306224</td>\n",
              "      <td>F</td>\n",
              "      <td>1979-12-01 00:00:00</td>\n",
              "      <td>NaN</td>\n",
              "      <td>NaN</td>\n",
              "      <td>NaN</td>\n",
              "      <td>NaN</td>\n",
              "      <td>NaN</td>\n",
              "      <td>NaN</td>\n",
              "      <td>NaN</td>\n",
              "      <td>NaN</td>\n",
              "      <td>NaN</td>\n",
              "      <td>NaN</td>\n",
              "      <td>NaN</td>\n",
              "    </tr>\n",
              "    <tr>\n",
              "      <th>4</th>\n",
              "      <td>ABRIL</td>\n",
              "      <td>2017</td>\n",
              "      <td>306225</td>\n",
              "      <td>M</td>\n",
              "      <td>1943-06-01 00:00:00</td>\n",
              "      <td>NaN</td>\n",
              "      <td>NaN</td>\n",
              "      <td>NaN</td>\n",
              "      <td>NaN</td>\n",
              "      <td>NaN</td>\n",
              "      <td>NaN</td>\n",
              "      <td>NaN</td>\n",
              "      <td>NaN</td>\n",
              "      <td>NaN</td>\n",
              "      <td>NaN</td>\n",
              "      <td>NaN</td>\n",
              "    </tr>\n",
              "    <tr>\n",
              "      <th>...</th>\n",
              "      <td>...</td>\n",
              "      <td>...</td>\n",
              "      <td>...</td>\n",
              "      <td>...</td>\n",
              "      <td>...</td>\n",
              "      <td>...</td>\n",
              "      <td>...</td>\n",
              "      <td>...</td>\n",
              "      <td>...</td>\n",
              "      <td>...</td>\n",
              "      <td>...</td>\n",
              "      <td>...</td>\n",
              "      <td>...</td>\n",
              "      <td>...</td>\n",
              "      <td>...</td>\n",
              "      <td>...</td>\n",
              "    </tr>\n",
              "    <tr>\n",
              "      <th>183906</th>\n",
              "      <td>JUNIO</td>\n",
              "      <td>2022</td>\n",
              "      <td>307482</td>\n",
              "      <td>F</td>\n",
              "      <td>1941-03-26 00:00:00</td>\n",
              "      <td>81.0</td>\n",
              "      <td>ANTIOQUIA</td>\n",
              "      <td>MEDELLIN</td>\n",
              "      <td>NaN</td>\n",
              "      <td>2017-04-01 00:00:00</td>\n",
              "      <td>2017-08-23 00:00:00</td>\n",
              "      <td>CLASE FUNCIONAL 2B</td>\n",
              "      <td>2022-04-22 00:00:00</td>\n",
              "      <td>CLASE FUNCIONAL 2A</td>\n",
              "      <td>Vejez</td>\n",
              "      <td>80-84</td>\n",
              "    </tr>\n",
              "    <tr>\n",
              "      <th>183907</th>\n",
              "      <td>JUNIO</td>\n",
              "      <td>2022</td>\n",
              "      <td>313801</td>\n",
              "      <td>F</td>\n",
              "      <td>1999-04-13 00:00:00</td>\n",
              "      <td>23.0</td>\n",
              "      <td>ANTIOQUIA</td>\n",
              "      <td>NaN</td>\n",
              "      <td>NaN</td>\n",
              "      <td>2021-09-02 00:00:00</td>\n",
              "      <td>2021-10-26 00:00:00</td>\n",
              "      <td>CLASE FUNCIONAL 1</td>\n",
              "      <td>2022-01-27 00:00:00</td>\n",
              "      <td>CLASE FUNCIONAL 1</td>\n",
              "      <td>Juventud</td>\n",
              "      <td>20-24</td>\n",
              "    </tr>\n",
              "    <tr>\n",
              "      <th>183908</th>\n",
              "      <td>JUNIO</td>\n",
              "      <td>2022</td>\n",
              "      <td>307738</td>\n",
              "      <td>F</td>\n",
              "      <td>1943-09-11 00:00:00</td>\n",
              "      <td>78.0</td>\n",
              "      <td>ANTIOQUIA</td>\n",
              "      <td>MEDELLIN</td>\n",
              "      <td>NaN</td>\n",
              "      <td>2017-04-01 00:00:00</td>\n",
              "      <td>2017-06-14 00:00:00</td>\n",
              "      <td>CLASE FUNCIONAL 2B</td>\n",
              "      <td>2022-01-06 00:00:00</td>\n",
              "      <td>CLASE FUNCIONAL 2A</td>\n",
              "      <td>Vejez</td>\n",
              "      <td>75-79</td>\n",
              "    </tr>\n",
              "    <tr>\n",
              "      <th>183909</th>\n",
              "      <td>JUNIO</td>\n",
              "      <td>2022</td>\n",
              "      <td>311656</td>\n",
              "      <td>M</td>\n",
              "      <td>1940-05-26 00:00:00</td>\n",
              "      <td>82.0</td>\n",
              "      <td>ANTIOQUIA</td>\n",
              "      <td>MEDELLIN</td>\n",
              "      <td>NaN</td>\n",
              "      <td>2018-01-01 00:00:00</td>\n",
              "      <td>2018-02-21 00:00:00</td>\n",
              "      <td>CLASE FUNCIONAL 2A</td>\n",
              "      <td>2022-03-17 00:00:00</td>\n",
              "      <td>CLASE FUNCIONAL 2B</td>\n",
              "      <td>Vejez</td>\n",
              "      <td>80-84</td>\n",
              "    </tr>\n",
              "    <tr>\n",
              "      <th>183910</th>\n",
              "      <td>JUNIO</td>\n",
              "      <td>2022</td>\n",
              "      <td>309230</td>\n",
              "      <td>M</td>\n",
              "      <td>1957-05-26 00:00:00</td>\n",
              "      <td>65.0</td>\n",
              "      <td>ANTIOQUIA</td>\n",
              "      <td>ENVIGADO</td>\n",
              "      <td>ENVIGADO LA MAGNOLIA</td>\n",
              "      <td>2017-04-01 00:00:00</td>\n",
              "      <td>2018-08-13 00:00:00</td>\n",
              "      <td>CLASE FUNCIONAL 2A</td>\n",
              "      <td>2022-02-09 00:00:00</td>\n",
              "      <td>CLASE FUNCIONAL 2B</td>\n",
              "      <td>Vejez</td>\n",
              "      <td>65-69</td>\n",
              "    </tr>\n",
              "  </tbody>\n",
              "</table>\n",
              "<p>183911 rows × 16 columns</p>\n",
              "</div>"
            ],
            "text/plain": [
              "          mes  year  nrodoc sexo     fecha_nacimiento  edad departamento  \\\n",
              "0       ABRIL  2017  306221    F  1938-09-09 00:00:00   NaN          NaN   \n",
              "1       ABRIL  2017  306222    F  1974-07-03 00:00:00   NaN          NaN   \n",
              "2       ABRIL  2017  306223    F  1930-08-24 00:00:00   NaN          NaN   \n",
              "3       ABRIL  2017  306224    F  1979-12-01 00:00:00   NaN          NaN   \n",
              "4       ABRIL  2017  306225    M  1943-06-01 00:00:00   NaN          NaN   \n",
              "...       ...   ...     ...  ...                  ...   ...          ...   \n",
              "183906  JUNIO  2022  307482    F  1941-03-26 00:00:00  81.0    ANTIOQUIA   \n",
              "183907  JUNIO  2022  313801    F  1999-04-13 00:00:00  23.0    ANTIOQUIA   \n",
              "183908  JUNIO  2022  307738    F  1943-09-11 00:00:00  78.0    ANTIOQUIA   \n",
              "183909  JUNIO  2022  311656    M  1940-05-26 00:00:00  82.0    ANTIOQUIA   \n",
              "183910  JUNIO  2022  309230    M  1957-05-26 00:00:00  65.0    ANTIOQUIA   \n",
              "\n",
              "       municipio                barrio  fecha_inicio_al_pgp  \\\n",
              "0            NaN                   NaN                  NaN   \n",
              "1            NaN                   NaN                  NaN   \n",
              "2            NaN                   NaN                  NaN   \n",
              "3            NaN                   NaN                  NaN   \n",
              "4            NaN                   NaN                  NaN   \n",
              "...          ...                   ...                  ...   \n",
              "183906  MEDELLIN                   NaN  2017-04-01 00:00:00   \n",
              "183907       NaN                   NaN  2021-09-02 00:00:00   \n",
              "183908  MEDELLIN                   NaN  2017-04-01 00:00:00   \n",
              "183909  MEDELLIN                   NaN  2018-01-01 00:00:00   \n",
              "183910  ENVIGADO  ENVIGADO LA MAGNOLIA  2017-04-01 00:00:00   \n",
              "\n",
              "       fecha_primera_clase_funcional primera_clase_funcional  \\\n",
              "0                                NaN                     NaN   \n",
              "1                                NaN                     NaN   \n",
              "2                                NaN                     NaN   \n",
              "3                                NaN                     NaN   \n",
              "4                                NaN                     NaN   \n",
              "...                              ...                     ...   \n",
              "183906           2017-08-23 00:00:00      CLASE FUNCIONAL 2B   \n",
              "183907           2021-10-26 00:00:00       CLASE FUNCIONAL 1   \n",
              "183908           2017-06-14 00:00:00      CLASE FUNCIONAL 2B   \n",
              "183909           2018-02-21 00:00:00      CLASE FUNCIONAL 2A   \n",
              "183910           2018-08-13 00:00:00      CLASE FUNCIONAL 2A   \n",
              "\n",
              "       fecha_ultima_clase_funcional ultima_clase_funcional ciclo_vital  \\\n",
              "0                               NaN                    NaN         NaN   \n",
              "1                               NaN                    NaN         NaN   \n",
              "2                               NaN                    NaN         NaN   \n",
              "3                               NaN                    NaN         NaN   \n",
              "4                               NaN                    NaN         NaN   \n",
              "...                             ...                    ...         ...   \n",
              "183906          2022-04-22 00:00:00     CLASE FUNCIONAL 2A       Vejez   \n",
              "183907          2022-01-27 00:00:00      CLASE FUNCIONAL 1    Juventud   \n",
              "183908          2022-01-06 00:00:00     CLASE FUNCIONAL 2A       Vejez   \n",
              "183909          2022-03-17 00:00:00     CLASE FUNCIONAL 2B       Vejez   \n",
              "183910          2022-02-09 00:00:00     CLASE FUNCIONAL 2B       Vejez   \n",
              "\n",
              "       quinquenio  \n",
              "0             NaN  \n",
              "1             NaN  \n",
              "2             NaN  \n",
              "3             NaN  \n",
              "4             NaN  \n",
              "...           ...  \n",
              "183906      80-84  \n",
              "183907      20-24  \n",
              "183908     75-79   \n",
              "183909      80-84  \n",
              "183910     65-69   \n",
              "\n",
              "[183911 rows x 16 columns]"
            ]
          },
          "execution_count": 8,
          "metadata": {},
          "output_type": "execute_result"
        }
      ],
      "source": [
        "df_usuarios"
      ]
    },
    {
      "cell_type": "code",
      "execution_count": 9,
      "metadata": {
        "colab": {
          "base_uri": "https://localhost:8080/"
        },
        "id": "00tc61YROzeL",
        "outputId": "dbb5e02e-3cb9-4211-d794-d552157945d0"
      },
      "outputs": [
        {
          "data": {
            "text/plain": [
              "5012"
            ]
          },
          "execution_count": 9,
          "metadata": {},
          "output_type": "execute_result"
        }
      ],
      "source": [
        "# Se identifica la existencia de muchas filas duplicadas, por lo cual se decide eliminar\n",
        "filas_duplicadas = df_usuarios.duplicated(keep='first')\n",
        "cantidad_duplicadas = filas_duplicadas.sum()\n",
        "cantidad_duplicadas"
      ]
    },
    {
      "cell_type": "code",
      "execution_count": 10,
      "metadata": {
        "id": "gM8dM2zdO4Ly"
      },
      "outputs": [],
      "source": [
        "# Se eliminan las 5012 filas duplicadas\n",
        "df_usuarios = df_usuarios.drop_duplicates()"
      ]
    },
    {
      "cell_type": "code",
      "execution_count": 11,
      "metadata": {
        "colab": {
          "base_uri": "https://localhost:8080/"
        },
        "id": "3osaNe6Ti-MO",
        "outputId": "07eb41c0-bcff-43c7-b045-17e1c096d81d"
      },
      "outputs": [
        {
          "name": "stdout",
          "output_type": "stream",
          "text": [
            "Se tienen 8068 pacientes únicos en los datos.\n"
          ]
        }
      ],
      "source": [
        "# Cuántos pacientes se tienen en el df?\n",
        "print('Se tienen', len(df_usuarios['nrodoc'].unique()), 'pacientes únicos en los datos.')"
      ]
    },
    {
      "cell_type": "code",
      "execution_count": 12,
      "metadata": {
        "colab": {
          "base_uri": "https://localhost:8080/",
          "height": 635
        },
        "id": "7ZKTE5AiPR3X",
        "outputId": "906766ba-3262-41a8-f021-05c051eeb9cb"
      },
      "outputs": [
        {
          "data": {
            "text/html": [
              "<div>\n",
              "<style scoped>\n",
              "    .dataframe tbody tr th:only-of-type {\n",
              "        vertical-align: middle;\n",
              "    }\n",
              "\n",
              "    .dataframe tbody tr th {\n",
              "        vertical-align: top;\n",
              "    }\n",
              "\n",
              "    .dataframe thead th {\n",
              "        text-align: right;\n",
              "    }\n",
              "</style>\n",
              "<table border=\"1\" class=\"dataframe\">\n",
              "  <thead>\n",
              "    <tr style=\"text-align: right;\">\n",
              "      <th></th>\n",
              "      <th>mes</th>\n",
              "      <th>year</th>\n",
              "      <th>nrodoc</th>\n",
              "      <th>sexo</th>\n",
              "      <th>fecha_nacimiento</th>\n",
              "      <th>edad</th>\n",
              "      <th>departamento</th>\n",
              "      <th>municipio</th>\n",
              "      <th>barrio</th>\n",
              "      <th>fecha_inicio_al_pgp</th>\n",
              "      <th>fecha_primera_clase_funcional</th>\n",
              "      <th>primera_clase_funcional</th>\n",
              "      <th>fecha_ultima_clase_funcional</th>\n",
              "      <th>ultima_clase_funcional</th>\n",
              "      <th>ciclo_vital</th>\n",
              "      <th>quinquenio</th>\n",
              "    </tr>\n",
              "  </thead>\n",
              "  <tbody>\n",
              "    <tr>\n",
              "      <th>0</th>\n",
              "      <td>ABRIL</td>\n",
              "      <td>2017</td>\n",
              "      <td>306221</td>\n",
              "      <td>F</td>\n",
              "      <td>1938-09-09 00:00:00</td>\n",
              "      <td>NaN</td>\n",
              "      <td>NaN</td>\n",
              "      <td>NaN</td>\n",
              "      <td>NaN</td>\n",
              "      <td>NaN</td>\n",
              "      <td>NaN</td>\n",
              "      <td>NaN</td>\n",
              "      <td>NaN</td>\n",
              "      <td>NaN</td>\n",
              "      <td>NaN</td>\n",
              "      <td>NaN</td>\n",
              "    </tr>\n",
              "    <tr>\n",
              "      <th>1</th>\n",
              "      <td>ABRIL</td>\n",
              "      <td>2017</td>\n",
              "      <td>306222</td>\n",
              "      <td>F</td>\n",
              "      <td>1974-07-03 00:00:00</td>\n",
              "      <td>NaN</td>\n",
              "      <td>NaN</td>\n",
              "      <td>NaN</td>\n",
              "      <td>NaN</td>\n",
              "      <td>NaN</td>\n",
              "      <td>NaN</td>\n",
              "      <td>NaN</td>\n",
              "      <td>NaN</td>\n",
              "      <td>NaN</td>\n",
              "      <td>NaN</td>\n",
              "      <td>NaN</td>\n",
              "    </tr>\n",
              "    <tr>\n",
              "      <th>2</th>\n",
              "      <td>ABRIL</td>\n",
              "      <td>2017</td>\n",
              "      <td>306223</td>\n",
              "      <td>F</td>\n",
              "      <td>1930-08-24 00:00:00</td>\n",
              "      <td>NaN</td>\n",
              "      <td>NaN</td>\n",
              "      <td>NaN</td>\n",
              "      <td>NaN</td>\n",
              "      <td>NaN</td>\n",
              "      <td>NaN</td>\n",
              "      <td>NaN</td>\n",
              "      <td>NaN</td>\n",
              "      <td>NaN</td>\n",
              "      <td>NaN</td>\n",
              "      <td>NaN</td>\n",
              "    </tr>\n",
              "    <tr>\n",
              "      <th>3</th>\n",
              "      <td>ABRIL</td>\n",
              "      <td>2017</td>\n",
              "      <td>306224</td>\n",
              "      <td>F</td>\n",
              "      <td>1979-12-01 00:00:00</td>\n",
              "      <td>NaN</td>\n",
              "      <td>NaN</td>\n",
              "      <td>NaN</td>\n",
              "      <td>NaN</td>\n",
              "      <td>NaN</td>\n",
              "      <td>NaN</td>\n",
              "      <td>NaN</td>\n",
              "      <td>NaN</td>\n",
              "      <td>NaN</td>\n",
              "      <td>NaN</td>\n",
              "      <td>NaN</td>\n",
              "    </tr>\n",
              "    <tr>\n",
              "      <th>4</th>\n",
              "      <td>ABRIL</td>\n",
              "      <td>2017</td>\n",
              "      <td>306225</td>\n",
              "      <td>M</td>\n",
              "      <td>1943-06-01 00:00:00</td>\n",
              "      <td>NaN</td>\n",
              "      <td>NaN</td>\n",
              "      <td>NaN</td>\n",
              "      <td>NaN</td>\n",
              "      <td>NaN</td>\n",
              "      <td>NaN</td>\n",
              "      <td>NaN</td>\n",
              "      <td>NaN</td>\n",
              "      <td>NaN</td>\n",
              "      <td>NaN</td>\n",
              "      <td>NaN</td>\n",
              "    </tr>\n",
              "    <tr>\n",
              "      <th>...</th>\n",
              "      <td>...</td>\n",
              "      <td>...</td>\n",
              "      <td>...</td>\n",
              "      <td>...</td>\n",
              "      <td>...</td>\n",
              "      <td>...</td>\n",
              "      <td>...</td>\n",
              "      <td>...</td>\n",
              "      <td>...</td>\n",
              "      <td>...</td>\n",
              "      <td>...</td>\n",
              "      <td>...</td>\n",
              "      <td>...</td>\n",
              "      <td>...</td>\n",
              "      <td>...</td>\n",
              "      <td>...</td>\n",
              "    </tr>\n",
              "    <tr>\n",
              "      <th>183906</th>\n",
              "      <td>JUNIO</td>\n",
              "      <td>2022</td>\n",
              "      <td>307482</td>\n",
              "      <td>F</td>\n",
              "      <td>1941-03-26 00:00:00</td>\n",
              "      <td>81.0</td>\n",
              "      <td>ANTIOQUIA</td>\n",
              "      <td>MEDELLIN</td>\n",
              "      <td>NaN</td>\n",
              "      <td>2017-04-01 00:00:00</td>\n",
              "      <td>2017-08-23 00:00:00</td>\n",
              "      <td>CLASE FUNCIONAL 2B</td>\n",
              "      <td>2022-04-22 00:00:00</td>\n",
              "      <td>CLASE FUNCIONAL 2A</td>\n",
              "      <td>Vejez</td>\n",
              "      <td>80-84</td>\n",
              "    </tr>\n",
              "    <tr>\n",
              "      <th>183907</th>\n",
              "      <td>JUNIO</td>\n",
              "      <td>2022</td>\n",
              "      <td>313801</td>\n",
              "      <td>F</td>\n",
              "      <td>1999-04-13 00:00:00</td>\n",
              "      <td>23.0</td>\n",
              "      <td>ANTIOQUIA</td>\n",
              "      <td>NaN</td>\n",
              "      <td>NaN</td>\n",
              "      <td>2021-09-02 00:00:00</td>\n",
              "      <td>2021-10-26 00:00:00</td>\n",
              "      <td>CLASE FUNCIONAL 1</td>\n",
              "      <td>2022-01-27 00:00:00</td>\n",
              "      <td>CLASE FUNCIONAL 1</td>\n",
              "      <td>Juventud</td>\n",
              "      <td>20-24</td>\n",
              "    </tr>\n",
              "    <tr>\n",
              "      <th>183908</th>\n",
              "      <td>JUNIO</td>\n",
              "      <td>2022</td>\n",
              "      <td>307738</td>\n",
              "      <td>F</td>\n",
              "      <td>1943-09-11 00:00:00</td>\n",
              "      <td>78.0</td>\n",
              "      <td>ANTIOQUIA</td>\n",
              "      <td>MEDELLIN</td>\n",
              "      <td>NaN</td>\n",
              "      <td>2017-04-01 00:00:00</td>\n",
              "      <td>2017-06-14 00:00:00</td>\n",
              "      <td>CLASE FUNCIONAL 2B</td>\n",
              "      <td>2022-01-06 00:00:00</td>\n",
              "      <td>CLASE FUNCIONAL 2A</td>\n",
              "      <td>Vejez</td>\n",
              "      <td>75-79</td>\n",
              "    </tr>\n",
              "    <tr>\n",
              "      <th>183909</th>\n",
              "      <td>JUNIO</td>\n",
              "      <td>2022</td>\n",
              "      <td>311656</td>\n",
              "      <td>M</td>\n",
              "      <td>1940-05-26 00:00:00</td>\n",
              "      <td>82.0</td>\n",
              "      <td>ANTIOQUIA</td>\n",
              "      <td>MEDELLIN</td>\n",
              "      <td>NaN</td>\n",
              "      <td>2018-01-01 00:00:00</td>\n",
              "      <td>2018-02-21 00:00:00</td>\n",
              "      <td>CLASE FUNCIONAL 2A</td>\n",
              "      <td>2022-03-17 00:00:00</td>\n",
              "      <td>CLASE FUNCIONAL 2B</td>\n",
              "      <td>Vejez</td>\n",
              "      <td>80-84</td>\n",
              "    </tr>\n",
              "    <tr>\n",
              "      <th>183910</th>\n",
              "      <td>JUNIO</td>\n",
              "      <td>2022</td>\n",
              "      <td>309230</td>\n",
              "      <td>M</td>\n",
              "      <td>1957-05-26 00:00:00</td>\n",
              "      <td>65.0</td>\n",
              "      <td>ANTIOQUIA</td>\n",
              "      <td>ENVIGADO</td>\n",
              "      <td>ENVIGADO LA MAGNOLIA</td>\n",
              "      <td>2017-04-01 00:00:00</td>\n",
              "      <td>2018-08-13 00:00:00</td>\n",
              "      <td>CLASE FUNCIONAL 2A</td>\n",
              "      <td>2022-02-09 00:00:00</td>\n",
              "      <td>CLASE FUNCIONAL 2B</td>\n",
              "      <td>Vejez</td>\n",
              "      <td>65-69</td>\n",
              "    </tr>\n",
              "  </tbody>\n",
              "</table>\n",
              "<p>178899 rows × 16 columns</p>\n",
              "</div>"
            ],
            "text/plain": [
              "          mes  year  nrodoc sexo     fecha_nacimiento  edad departamento  \\\n",
              "0       ABRIL  2017  306221    F  1938-09-09 00:00:00   NaN          NaN   \n",
              "1       ABRIL  2017  306222    F  1974-07-03 00:00:00   NaN          NaN   \n",
              "2       ABRIL  2017  306223    F  1930-08-24 00:00:00   NaN          NaN   \n",
              "3       ABRIL  2017  306224    F  1979-12-01 00:00:00   NaN          NaN   \n",
              "4       ABRIL  2017  306225    M  1943-06-01 00:00:00   NaN          NaN   \n",
              "...       ...   ...     ...  ...                  ...   ...          ...   \n",
              "183906  JUNIO  2022  307482    F  1941-03-26 00:00:00  81.0    ANTIOQUIA   \n",
              "183907  JUNIO  2022  313801    F  1999-04-13 00:00:00  23.0    ANTIOQUIA   \n",
              "183908  JUNIO  2022  307738    F  1943-09-11 00:00:00  78.0    ANTIOQUIA   \n",
              "183909  JUNIO  2022  311656    M  1940-05-26 00:00:00  82.0    ANTIOQUIA   \n",
              "183910  JUNIO  2022  309230    M  1957-05-26 00:00:00  65.0    ANTIOQUIA   \n",
              "\n",
              "       municipio                barrio  fecha_inicio_al_pgp  \\\n",
              "0            NaN                   NaN                  NaN   \n",
              "1            NaN                   NaN                  NaN   \n",
              "2            NaN                   NaN                  NaN   \n",
              "3            NaN                   NaN                  NaN   \n",
              "4            NaN                   NaN                  NaN   \n",
              "...          ...                   ...                  ...   \n",
              "183906  MEDELLIN                   NaN  2017-04-01 00:00:00   \n",
              "183907       NaN                   NaN  2021-09-02 00:00:00   \n",
              "183908  MEDELLIN                   NaN  2017-04-01 00:00:00   \n",
              "183909  MEDELLIN                   NaN  2018-01-01 00:00:00   \n",
              "183910  ENVIGADO  ENVIGADO LA MAGNOLIA  2017-04-01 00:00:00   \n",
              "\n",
              "       fecha_primera_clase_funcional primera_clase_funcional  \\\n",
              "0                                NaN                     NaN   \n",
              "1                                NaN                     NaN   \n",
              "2                                NaN                     NaN   \n",
              "3                                NaN                     NaN   \n",
              "4                                NaN                     NaN   \n",
              "...                              ...                     ...   \n",
              "183906           2017-08-23 00:00:00      CLASE FUNCIONAL 2B   \n",
              "183907           2021-10-26 00:00:00       CLASE FUNCIONAL 1   \n",
              "183908           2017-06-14 00:00:00      CLASE FUNCIONAL 2B   \n",
              "183909           2018-02-21 00:00:00      CLASE FUNCIONAL 2A   \n",
              "183910           2018-08-13 00:00:00      CLASE FUNCIONAL 2A   \n",
              "\n",
              "       fecha_ultima_clase_funcional ultima_clase_funcional ciclo_vital  \\\n",
              "0                               NaN                    NaN         NaN   \n",
              "1                               NaN                    NaN         NaN   \n",
              "2                               NaN                    NaN         NaN   \n",
              "3                               NaN                    NaN         NaN   \n",
              "4                               NaN                    NaN         NaN   \n",
              "...                             ...                    ...         ...   \n",
              "183906          2022-04-22 00:00:00     CLASE FUNCIONAL 2A       Vejez   \n",
              "183907          2022-01-27 00:00:00      CLASE FUNCIONAL 1    Juventud   \n",
              "183908          2022-01-06 00:00:00     CLASE FUNCIONAL 2A       Vejez   \n",
              "183909          2022-03-17 00:00:00     CLASE FUNCIONAL 2B       Vejez   \n",
              "183910          2022-02-09 00:00:00     CLASE FUNCIONAL 2B       Vejez   \n",
              "\n",
              "       quinquenio  \n",
              "0             NaN  \n",
              "1             NaN  \n",
              "2             NaN  \n",
              "3             NaN  \n",
              "4             NaN  \n",
              "...           ...  \n",
              "183906      80-84  \n",
              "183907      20-24  \n",
              "183908     75-79   \n",
              "183909      80-84  \n",
              "183910     65-69   \n",
              "\n",
              "[178899 rows x 16 columns]"
            ]
          },
          "execution_count": 12,
          "metadata": {},
          "output_type": "execute_result"
        }
      ],
      "source": [
        "df_usuarios"
      ]
    },
    {
      "cell_type": "code",
      "execution_count": 13,
      "metadata": {
        "colab": {
          "base_uri": "https://localhost:8080/"
        },
        "id": "g1sbtuo2MQNz",
        "outputId": "3e823538-c7ff-48d6-fd62-e7973490570e"
      },
      "outputs": [
        {
          "data": {
            "text/plain": [
              "mes                                  0\n",
              "year                                 0\n",
              "nrodoc                               0\n",
              "sexo                                 7\n",
              "fecha_nacimiento                 72076\n",
              "edad                             29144\n",
              "departamento                     96615\n",
              "municipio                        97502\n",
              "barrio                           63555\n",
              "fecha_inicio_al_pgp              53241\n",
              "fecha_primera_clase_funcional    90938\n",
              "primera_clase_funcional          89258\n",
              "fecha_ultima_clase_funcional     90914\n",
              "ultima_clase_funcional           50790\n",
              "ciclo_vital                      29144\n",
              "quinquenio                       29144\n",
              "dtype: int64"
            ]
          },
          "execution_count": 13,
          "metadata": {},
          "output_type": "execute_result"
        }
      ],
      "source": [
        "# Se verifica el total de datos nulos por columna\n",
        "df_usuarios.isnull().sum()"
      ]
    },
    {
      "cell_type": "code",
      "execution_count": 14,
      "metadata": {
        "colab": {
          "base_uri": "https://localhost:8080/"
        },
        "id": "eczgAYSGNkdE",
        "outputId": "b53ac2d6-6f7a-48af-a564-9a6f18d4e9a7"
      },
      "outputs": [
        {
          "data": {
            "text/plain": [
              "mes\n",
              "JUNIO         18679\n",
              "MAYO          18649\n",
              "ENERO         14308\n",
              "OCTUBRE       14294\n",
              "DICIEMBRE     14293\n",
              "SEPTIEMBRE    14182\n",
              "FEBRERO       14158\n",
              "JULIO         14102\n",
              "AGOSTO        14077\n",
              "NOVIEMBRE     14063\n",
              "MARZO         14057\n",
              "ABRIL         14037\n",
              "Name: count, dtype: int64"
            ]
          },
          "execution_count": 14,
          "metadata": {},
          "output_type": "execute_result"
        }
      ],
      "source": [
        "# los meses estan bien escritos\n",
        "df_usuarios['mes'].value_counts()"
      ]
    },
    {
      "cell_type": "code",
      "execution_count": 15,
      "metadata": {
        "id": "qgI8-8NExl75"
      },
      "outputs": [],
      "source": [
        "# Se reemplazan los nombres de los meses en un diccionario\n",
        "categorias = {'ENERO':'Enero','FEBRERO':'Febrero','MARZO':'Marzo','ABRIL':'Abril','MAYO':'Mayo','JUNIO':'Junio','JULIO':'Julio','AGOSTO':'Agosto','SEPTIEMBRE':'Septiembre','OCTUBRE':'Octubre','NOVIEMBRE':'Noviembre','DICIEMBRE':'Diciembre'}"
      ]
    },
    {
      "cell_type": "code",
      "execution_count": 16,
      "metadata": {
        "colab": {
          "base_uri": "https://localhost:8080/"
        },
        "id": "YbT_Wtmm5p_b",
        "outputId": "674b9268-b171-4111-addb-1fb486c73d22"
      },
      "outputs": [
        {
          "name": "stderr",
          "output_type": "stream",
          "text": [
            "C:\\Users\\Dell\\AppData\\Local\\Temp\\ipykernel_9184\\2698255419.py:1: SettingWithCopyWarning: \n",
            "A value is trying to be set on a copy of a slice from a DataFrame.\n",
            "Try using .loc[row_indexer,col_indexer] = value instead\n",
            "\n",
            "See the caveats in the documentation: https://pandas.pydata.org/pandas-docs/stable/user_guide/indexing.html#returning-a-view-versus-a-copy\n",
            "  df_usuarios['mes'] = df_usuarios['mes'].replace(categorias)\n"
          ]
        }
      ],
      "source": [
        "df_usuarios['mes'] = df_usuarios['mes'].replace(categorias)"
      ]
    },
    {
      "cell_type": "code",
      "execution_count": 17,
      "metadata": {
        "colab": {
          "base_uri": "https://localhost:8080/"
        },
        "id": "1sF21T7457Eu",
        "outputId": "d506c2f8-0d0c-4a4f-da1b-15c32f1b8d9e"
      },
      "outputs": [
        {
          "data": {
            "text/plain": [
              "mes\n",
              "Junio         18679\n",
              "Mayo          18649\n",
              "Enero         14308\n",
              "Octubre       14294\n",
              "Diciembre     14293\n",
              "Septiembre    14182\n",
              "Febrero       14158\n",
              "Julio         14102\n",
              "Agosto        14077\n",
              "Noviembre     14063\n",
              "Marzo         14057\n",
              "Abril         14037\n",
              "Name: count, dtype: int64"
            ]
          },
          "execution_count": 17,
          "metadata": {},
          "output_type": "execute_result"
        }
      ],
      "source": [
        "df_usuarios['mes'].value_counts()"
      ]
    },
    {
      "cell_type": "code",
      "execution_count": 18,
      "metadata": {
        "colab": {
          "base_uri": "https://localhost:8080/"
        },
        "id": "x0JBENOONvVJ",
        "outputId": "c7fb558c-1fb1-4e1c-b624-8e26c832b0c3"
      },
      "outputs": [
        {
          "data": {
            "text/plain": [
              "year\n",
              "2021    55229\n",
              "2018    52915\n",
              "2017    43563\n",
              "2022    27192\n",
              "Name: count, dtype: int64"
            ]
          },
          "execution_count": 18,
          "metadata": {},
          "output_type": "execute_result"
        }
      ],
      "source": [
        "# Los años estan bien\n",
        "df_usuarios['year'].value_counts()"
      ]
    },
    {
      "cell_type": "code",
      "execution_count": 19,
      "metadata": {
        "colab": {
          "base_uri": "https://localhost:8080/"
        },
        "id": "eGu3VebBOMJQ",
        "outputId": "0ef3c5e1-3316-463c-b642-ac75bfa9435c"
      },
      "outputs": [
        {
          "data": {
            "text/plain": [
              "nrodoc\n",
              "306221    38\n",
              "308922    38\n",
              "308899    38\n",
              "308901    38\n",
              "308902    38\n",
              "          ..\n",
              "309639     1\n",
              "309656     1\n",
              "306890     1\n",
              "313045     1\n",
              "314288     1\n",
              "Name: count, Length: 8068, dtype: int64"
            ]
          },
          "execution_count": 19,
          "metadata": {},
          "output_type": "execute_result"
        }
      ],
      "source": [
        "# Los codigos estan bien\n",
        "df_usuarios['nrodoc'].value_counts()"
      ]
    },
    {
      "cell_type": "code",
      "execution_count": 20,
      "metadata": {
        "colab": {
          "base_uri": "https://localhost:8080/"
        },
        "id": "wQY5oND1OW8M",
        "outputId": "93b2c781-9905-4b9c-95d6-d2038187c771"
      },
      "outputs": [
        {
          "data": {
            "text/plain": [
              "sexo\n",
              "F                                       112220\n",
              "M                                        66658\n",
              "CARRERA 51 B 1 33                            1\n",
              "CL 48  95 55                                 1\n",
              "CR 49 46 14                                  1\n",
              "CRR 47 N  41 32                              1\n",
              "CALLE 80 A 71 A 18                           1\n",
              "CL 94  74B  16                               1\n",
              "CALLE 77E   8830                             1\n",
              "KR 55A 47 16  BR SANTA ANA                   1\n",
              "KR 92 NRO 46 97                              1\n",
              "CL 55 80 54                                  1\n",
              "CALLE 38 SUR N  29 A 54 PISO 2               1\n",
              "CR 75A   88A   27 BRR ROBLEDO KENEDY         1\n",
              "CL  40 C  SUR   29 C  31LA FLORIDA           1\n",
              "CL 31 NRO 44 159                             1\n",
              "Name: count, dtype: int64"
            ]
          },
          "execution_count": 20,
          "metadata": {},
          "output_type": "execute_result"
        }
      ],
      "source": [
        "# Se encuentra que en la variable SEXO, se encuentran datos que son direcciones\n",
        "df_usuarios['sexo'].value_counts()"
      ]
    },
    {
      "cell_type": "code",
      "execution_count": 21,
      "metadata": {
        "id": "A1aSANAWXrva"
      },
      "outputs": [],
      "source": [
        "# Crear una lista de valores a mantener\n",
        "genero = ['F', 'M']\n",
        "\n",
        "# Filtrar las filas donde 'SEXO' esté en la lista de valores a mantener\n",
        "df_usuarios = df_usuarios[df_usuarios['sexo'].isin(genero)]"
      ]
    },
    {
      "cell_type": "code",
      "execution_count": 22,
      "metadata": {
        "colab": {
          "base_uri": "https://localhost:8080/"
        },
        "id": "dmdRGzApYVBj",
        "outputId": "37a9f753-b78e-483c-a97f-e3af3d7c35b4"
      },
      "outputs": [
        {
          "data": {
            "text/plain": [
              "sexo\n",
              "F    112220\n",
              "M     66658\n",
              "Name: count, dtype: int64"
            ]
          },
          "execution_count": 22,
          "metadata": {},
          "output_type": "execute_result"
        }
      ],
      "source": [
        "df_usuarios['sexo'].value_counts()"
      ]
    },
    {
      "cell_type": "code",
      "execution_count": 23,
      "metadata": {
        "colab": {
          "base_uri": "https://localhost:8080/"
        },
        "id": "CgENCnRMPg6N",
        "outputId": "63ee3315-27f4-4727-af5f-db0210111964"
      },
      "outputs": [
        {
          "data": {
            "text/plain": [
              "fecha_nacimiento\n",
              "1930-12-31 00:00:00    110\n",
              "1936-10-15 00:00:00     97\n",
              "1922-12-31 00:00:00     95\n",
              "1947-08-07 00:00:00     95\n",
              "1928-12-31 00:00:00     94\n",
              "                      ... \n",
              "1966-10-13 00:00:00      1\n",
              "1958-01-31 00:00:00      1\n",
              "1931-08-16 00:00:00      1\n",
              "1939-08-18 00:00:00      1\n",
              "1956-02-14 00:00:00      1\n",
              "Name: count, Length: 6166, dtype: int64"
            ]
          },
          "execution_count": 23,
          "metadata": {},
          "output_type": "execute_result"
        }
      ],
      "source": [
        "# Se decide borrar ya que se tienen datos más significativos como la edad\n",
        "df_usuarios['fecha_nacimiento'].value_counts()"
      ]
    },
    {
      "cell_type": "code",
      "execution_count": 24,
      "metadata": {
        "id": "E7dL3XZ7b0T1"
      },
      "outputs": [],
      "source": [
        "df_usuarios = df_usuarios.drop(columns=['fecha_nacimiento'])"
      ]
    },
    {
      "cell_type": "code",
      "execution_count": 25,
      "metadata": {
        "colab": {
          "base_uri": "https://localhost:8080/"
        },
        "id": "stWbnC6pPuTG",
        "outputId": "cfefe16b-5b3d-4645-a0d3-1b8ec9c712c9"
      },
      "outputs": [
        {
          "data": {
            "text/plain": [
              "edad\n",
              "75.0     5636\n",
              "76.0     5418\n",
              "74.0     5134\n",
              "82.0     4764\n",
              "73.0     4759\n",
              "         ... \n",
              "102.0      52\n",
              "105.0      24\n",
              "19.0       15\n",
              "106.0      12\n",
              "18.0       10\n",
              "Name: count, Length: 89, dtype: int64"
            ]
          },
          "execution_count": 25,
          "metadata": {},
          "output_type": "execute_result"
        }
      ],
      "source": [
        "# SE PUEDEN BORRAR LOS DATOS NULOS?\n",
        "df_usuarios['edad'].value_counts()"
      ]
    },
    {
      "cell_type": "code",
      "execution_count": 26,
      "metadata": {
        "colab": {
          "base_uri": "https://localhost:8080/"
        },
        "id": "aSF8VZAFc8zA",
        "outputId": "34c5c6b7-ed18-4ce1-d1cb-df0bfd10097a"
      },
      "outputs": [
        {
          "data": {
            "text/plain": [
              "edad\n",
              "NaN      29123\n",
              "75.0      5636\n",
              "76.0      5418\n",
              "74.0      5134\n",
              "82.0      4764\n",
              "         ...  \n",
              "102.0       52\n",
              "105.0       24\n",
              "19.0        15\n",
              "106.0       12\n",
              "18.0        10\n",
              "Name: count, Length: 90, dtype: int64"
            ]
          },
          "execution_count": 26,
          "metadata": {},
          "output_type": "execute_result"
        }
      ],
      "source": [
        "df_usuarios['edad'].value_counts(dropna=False)"
      ]
    },
    {
      "cell_type": "code",
      "execution_count": 27,
      "metadata": {
        "id": "Gvqf1N39dGZ3"
      },
      "outputs": [],
      "source": [
        "df_usuarios = df_usuarios.dropna(subset=['edad'])"
      ]
    },
    {
      "cell_type": "code",
      "execution_count": 28,
      "metadata": {
        "colab": {
          "base_uri": "https://localhost:8080/"
        },
        "id": "fbxCUfgOb9z0",
        "outputId": "d34470ae-a807-486d-ad98-319293e9ce51"
      },
      "outputs": [
        {
          "data": {
            "text/plain": [
              "mes                                  0\n",
              "year                                 0\n",
              "nrodoc                               0\n",
              "sexo                                 0\n",
              "edad                                 0\n",
              "departamento                     67471\n",
              "municipio                        68358\n",
              "barrio                           39017\n",
              "fecha_inicio_al_pgp              24097\n",
              "fecha_primera_clase_funcional    61794\n",
              "primera_clase_funcional          60114\n",
              "fecha_ultima_clase_funcional     61770\n",
              "ultima_clase_funcional           24530\n",
              "ciclo_vital                          0\n",
              "quinquenio                           0\n",
              "dtype: int64"
            ]
          },
          "execution_count": 28,
          "metadata": {},
          "output_type": "execute_result"
        }
      ],
      "source": [
        "df_usuarios.isnull().sum()"
      ]
    },
    {
      "cell_type": "code",
      "execution_count": 29,
      "metadata": {
        "colab": {
          "base_uri": "https://localhost:8080/"
        },
        "id": "H6NcIm2cQEsA",
        "outputId": "90a27f6d-7b0f-42a2-abeb-106fbecd5221"
      },
      "outputs": [
        {
          "data": {
            "text/plain": [
              "departamento\n",
              "ANTIOQUIA    82284\n",
              "Name: count, dtype: int64"
            ]
          },
          "execution_count": 29,
          "metadata": {},
          "output_type": "execute_result"
        }
      ],
      "source": [
        "# La columna DEPARTAMENTO solo contiene a Antioquia, por lo tanto se decide eliminar\n",
        "df_usuarios['departamento'].value_counts()"
      ]
    },
    {
      "cell_type": "code",
      "execution_count": 30,
      "metadata": {
        "id": "sxvH-QtjQpXw"
      },
      "outputs": [],
      "source": [
        "# Se elimina la variable DEPARTAMENTO\n",
        "df_usuarios = df_usuarios.drop(columns=['departamento'])"
      ]
    },
    {
      "cell_type": "code",
      "execution_count": 31,
      "metadata": {
        "colab": {
          "base_uri": "https://localhost:8080/"
        },
        "id": "SitEqcGnRa-j",
        "outputId": "f5286ba0-f877-4c15-a563-fda2f8e848eb"
      },
      "outputs": [
        {
          "data": {
            "text/plain": [
              "municipio\n",
              "MEDELLIN                 68405\n",
              "BELLO                     5672\n",
              "ITAGUI                    3051\n",
              "ENVIGADO                  1787\n",
              "SAN ANTONIO DE PRADO       856\n",
              "SABANETA                   590\n",
              "SAN CRISTOBAL              344\n",
              "LA ESTRELLA                279\n",
              "COPACABANA                 108\n",
              "SANTA ELENA                 92\n",
              "SAN FELIX                   36\n",
              "EL PORVENIR                 18\n",
              "VEREDA EL TAMBO             18\n",
              "VEREDA SINDELATO            18\n",
              "VEREDA LA MARIA             18\n",
              "VEREDA YARUMALITO           18\n",
              "VEREDA BOQUERON             18\n",
              "VEREDA EL POTRERITO         18\n",
              "SANTA FE DE ANTIOQUIA       18\n",
              "VEREDA EL LLANO             18\n",
              "GIRARDOTA                   15\n",
              "Name: count, dtype: int64"
            ]
          },
          "execution_count": 31,
          "metadata": {},
          "output_type": "execute_result"
        }
      ],
      "source": [
        "# Se decide que como los municipios en la variable pertenecen a Antioquia, no agregaria mucho valor al modelo, por lo tanto se decide eliminar la columna\n",
        "df_usuarios['municipio'].value_counts()"
      ]
    },
    {
      "cell_type": "code",
      "execution_count": 32,
      "metadata": {
        "id": "9xE09sUf6dBZ"
      },
      "outputs": [],
      "source": [
        "# Se elimina la variable municipio\n",
        "df_usuarios = df_usuarios.drop(columns=['municipio'])"
      ]
    },
    {
      "cell_type": "code",
      "execution_count": 33,
      "metadata": {
        "colab": {
          "base_uri": "https://localhost:8080/"
        },
        "id": "QS9y_t1JRqUI",
        "outputId": "591c081d-ab8d-4a05-812d-1b03edb98bc3"
      },
      "outputs": [
        {
          "data": {
            "text/plain": [
              "barrio\n",
              "MEDELLIN             13649\n",
              "MANRIQUE              5101\n",
              "ARANJUEZ              3451\n",
              "CASTILLA              3031\n",
              "BUENOS AIRES          2433\n",
              "                     ...  \n",
              "BARRIO ALTAVISTA         1\n",
              "LA CASTELLANA            1\n",
              "BELLO - CABAÑAS          1\n",
              "LA GABRIELA BELLO        1\n",
              "SANTANA                  1\n",
              "Name: count, Length: 727, dtype: int64"
            ]
          },
          "execution_count": 33,
          "metadata": {},
          "output_type": "execute_result"
        }
      ],
      "source": [
        "# Al igual que en el municipio, los barrios no aportan al modelo\n",
        "df_usuarios['barrio'].value_counts()"
      ]
    },
    {
      "cell_type": "code",
      "execution_count": 34,
      "metadata": {
        "id": "OqVZmmLG6mDL"
      },
      "outputs": [],
      "source": [
        "# Se elimina la variable barrio\n",
        "df_usuarios = df_usuarios.drop(columns=['barrio'])"
      ]
    },
    {
      "cell_type": "code",
      "execution_count": 35,
      "metadata": {
        "colab": {
          "base_uri": "https://localhost:8080/"
        },
        "id": "nqrHtz6bRtob",
        "outputId": "be2d1a51-3fce-4eb1-c972-0d39a5165ee6"
      },
      "outputs": [
        {
          "data": {
            "text/plain": [
              "fecha_inicio_al_pgp\n",
              "2017-04-01 00:00:00    80871\n",
              "2020-07-01 00:00:00     4626\n",
              "2018-12-01 00:00:00     3215\n",
              "2019-06-05 00:00:00     2994\n",
              "2018-01-01 00:00:00     2950\n",
              "2019-08-01 00:00:00     2763\n",
              "2017-12-01 00:00:00     2627\n",
              "2018-08-01 00:00:00     2523\n",
              "2017-10-02 00:00:00     2513\n",
              "2020-03-01 00:00:00     1963\n",
              "2018-03-01 00:00:00     1946\n",
              "2018-06-01 00:00:00     1922\n",
              "2020-10-01 00:00:00     1885\n",
              "2017-09-01 00:00:00     1854\n",
              "2021-10-01 00:00:00     1609\n",
              "2020-11-01 00:00:00     1247\n",
              "2019-07-05 00:00:00     1188\n",
              "2021-09-02 00:00:00     1079\n",
              "2020-08-01 00:00:00      953\n",
              "2019-02-27 00:00:00      774\n",
              "2018-05-01 00:00:00      548\n",
              "2021-06-01 00:00:00      456\n",
              "2020-12-01 00:00:00      432\n",
              "2018-11-01 00:00:00      373\n",
              "2022-02-03 00:00:00      350\n",
              "2021-02-02 00:00:00      295\n",
              "2021-01-07 00:00:00      288\n",
              "2022-01-06 00:00:00      261\n",
              "2021-07-01 00:00:00      254\n",
              "2021-11-03 00:00:00      219\n",
              "2017-11-01 00:00:00      217\n",
              "2021-12-03 00:00:00      102\n",
              "2018-04-01 00:00:00       78\n",
              "2022-06-01 00:00:00       69\n",
              "2021-08-03 00:00:00       65\n",
              "2019-10-04 00:00:00       57\n",
              "2017-06-01 00:00:00       36\n",
              "2021-01-06 00:00:00       18\n",
              "2022-03-18 00:00:00        8\n",
              "2018-02-09 00:00:00        6\n",
              "2018-02-06 00:00:00        6\n",
              "2018-01-05 00:00:00        6\n",
              "2021-01-01 00:00:00        5\n",
              "2022-02-04 00:00:00        5\n",
              "2022-01-13 00:00:00        1\n",
              "2022-06-02 00:00:00        1\n",
              "Name: count, dtype: int64"
            ]
          },
          "execution_count": 35,
          "metadata": {},
          "output_type": "execute_result"
        }
      ],
      "source": [
        "# La fecha de ingreso al programa no aporta al modelo\n",
        "df_usuarios['fecha_inicio_al_pgp'].value_counts()"
      ]
    },
    {
      "cell_type": "code",
      "execution_count": 36,
      "metadata": {
        "id": "8MK5KNxr8ANR"
      },
      "outputs": [],
      "source": [
        "# Se elimina la variable fecha_inicio_al_pgp\n",
        "df_usuarios = df_usuarios.drop(columns=['fecha_inicio_al_pgp'])"
      ]
    },
    {
      "cell_type": "code",
      "execution_count": 37,
      "metadata": {
        "colab": {
          "base_uri": "https://localhost:8080/"
        },
        "id": "r-e9UJEHTz_0",
        "outputId": "b2468b6d-d6c3-47f7-be36-6509ebd7ecee"
      },
      "outputs": [
        {
          "data": {
            "text/plain": [
              "fecha_primera_clase_funcional\n",
              "2017-04-05 00:00:00    749\n",
              "2017-04-03 00:00:00    725\n",
              "2017-04-07 00:00:00    711\n",
              "2017-04-25 00:00:00    659\n",
              "2017-05-30 00:00:00    656\n",
              "                      ... \n",
              "2018-08-14 00:00:00      1\n",
              "2018-09-12 00:00:00      1\n",
              "2018-10-18 00:00:00      1\n",
              "2019-12-04 00:00:00      1\n",
              "2019-02-24 00:00:00      1\n",
              "Name: count, Length: 864, dtype: int64"
            ]
          },
          "execution_count": 37,
          "metadata": {},
          "output_type": "execute_result"
        }
      ],
      "source": [
        "# No aporta al modelo\n",
        "df_usuarios['fecha_primera_clase_funcional'].value_counts()"
      ]
    },
    {
      "cell_type": "code",
      "execution_count": 38,
      "metadata": {
        "id": "lWsruX-i8JbM"
      },
      "outputs": [],
      "source": [
        "# Se elimina la variable fecha_primera_clase_funcional\n",
        "df_usuarios = df_usuarios.drop(columns=['fecha_primera_clase_funcional'])"
      ]
    },
    {
      "cell_type": "code",
      "execution_count": 39,
      "metadata": {
        "colab": {
          "base_uri": "https://localhost:8080/"
        },
        "id": "YcdekOBLT9Gt",
        "outputId": "8cd4516f-1ad5-4654-c928-94d90d36a356"
      },
      "outputs": [
        {
          "data": {
            "text/plain": [
              "primera_clase_funcional\n",
              "CLASE FUNCIONAL 2A    16537\n",
              "CLASE FUNCIONAL 2B    16394\n",
              "CLASE FUNCIONAL 4      8180\n",
              "Clase funcional 2B     7398\n",
              "Clase funcional 2A     6830\n",
              "clase funcional 2b     5883\n",
              "Clase funcional 4      5794\n",
              "clase funcional 2a     5727\n",
              "CLASE FUNCIONAL 3      5529\n",
              "clase funcional 4      3738\n",
              "CLASE FUNCIONAL 1      1927\n",
              "clase funcional 3      1593\n",
              "Sin Clasificar         1393\n",
              "Clase funcional 3      1351\n",
              "Clase funcional 1       533\n",
              "clase funcional 1       518\n",
              "Sin clasificar          316\n",
              "Name: count, dtype: int64"
            ]
          },
          "execution_count": 39,
          "metadata": {},
          "output_type": "execute_result"
        }
      ],
      "source": [
        "df_usuarios['primera_clase_funcional'].value_counts()"
      ]
    },
    {
      "cell_type": "code",
      "execution_count": 40,
      "metadata": {
        "id": "yNnvnUSvgVK0"
      },
      "outputs": [],
      "source": [
        "# Se crea un diccionario con las categorias corregidas\n",
        "categorias = {'clase funcional 1': 'Clase funcional 1','CLASE FUNCIONAL 1': 'Clase funcional 1','clase funcional 2a':'Clase funcional 2A','CLASE FUNCIONAL 2A':'Clase funcional 2A', 'clase funcional 2b':'Clase funcional 2B','CLASE FUNCIONAL 2B':'Clase funcional 2B','clase funcional 3':'Clase funcional 3','CLASE FUNCIONAL 3':'Clase funcional 3','clase funcional 4':'Clase funcional 4','CLASE FUNCIONAL 4':'Clase funcional 4','Sin Clasificar':'Sin clasificar'}"
      ]
    },
    {
      "cell_type": "code",
      "execution_count": 41,
      "metadata": {
        "id": "800pRJdpljWu"
      },
      "outputs": [],
      "source": [
        "df_usuarios['primera_clase_funcional'] = df_usuarios['primera_clase_funcional'].replace(categorias)"
      ]
    },
    {
      "cell_type": "code",
      "execution_count": 42,
      "metadata": {
        "colab": {
          "base_uri": "https://localhost:8080/"
        },
        "id": "nX5M9OmGn1M6",
        "outputId": "4427cb92-50c1-41ce-a5a6-f7c7c9b5e23f"
      },
      "outputs": [
        {
          "data": {
            "text/plain": [
              "primera_clase_funcional\n",
              "NaN                   60114\n",
              "Clase funcional 2B    29675\n",
              "Clase funcional 2A    29094\n",
              "Clase funcional 4     17712\n",
              "Clase funcional 3      8473\n",
              "Clase funcional 1      2978\n",
              "Sin clasificar         1709\n",
              "Name: count, dtype: int64"
            ]
          },
          "execution_count": 42,
          "metadata": {},
          "output_type": "execute_result"
        }
      ],
      "source": [
        "# Se identifica la cantidad de nulos en la variable\n",
        "df_usuarios['primera_clase_funcional'].value_counts(dropna=False)"
      ]
    },
    {
      "cell_type": "code",
      "execution_count": 43,
      "metadata": {
        "id": "p-vyle8toQP1"
      },
      "outputs": [],
      "source": [
        "# Se decide reemplazar los nulos en la categoria 'Sin clasificar'\n",
        "df_usuarios['primera_clase_funcional'].fillna('Sin clasificar', inplace=True)"
      ]
    },
    {
      "cell_type": "code",
      "execution_count": 44,
      "metadata": {
        "colab": {
          "base_uri": "https://localhost:8080/"
        },
        "id": "KBK-OQcsodLP",
        "outputId": "c76f5a4b-ab0e-4cda-f52d-ba013182a999"
      },
      "outputs": [
        {
          "data": {
            "text/plain": [
              "primera_clase_funcional\n",
              "Sin clasificar        61823\n",
              "Clase funcional 2B    29675\n",
              "Clase funcional 2A    29094\n",
              "Clase funcional 4     17712\n",
              "Clase funcional 3      8473\n",
              "Clase funcional 1      2978\n",
              "Name: count, dtype: int64"
            ]
          },
          "execution_count": 44,
          "metadata": {},
          "output_type": "execute_result"
        }
      ],
      "source": [
        "df_usuarios['primera_clase_funcional'].value_counts()"
      ]
    },
    {
      "cell_type": "code",
      "execution_count": 45,
      "metadata": {
        "colab": {
          "base_uri": "https://localhost:8080/"
        },
        "id": "F1Td03ROl4Wi",
        "outputId": "bc9dc2aa-8848-4268-bcd6-e747d1383dc6"
      },
      "outputs": [
        {
          "data": {
            "text/plain": [
              "mes                                 0\n",
              "year                                0\n",
              "nrodoc                              0\n",
              "sexo                                0\n",
              "edad                                0\n",
              "primera_clase_funcional             0\n",
              "fecha_ultima_clase_funcional    61770\n",
              "ultima_clase_funcional          24530\n",
              "ciclo_vital                         0\n",
              "quinquenio                          0\n",
              "dtype: int64"
            ]
          },
          "execution_count": 45,
          "metadata": {},
          "output_type": "execute_result"
        }
      ],
      "source": [
        "df_usuarios.isnull().sum()"
      ]
    },
    {
      "cell_type": "code",
      "execution_count": 46,
      "metadata": {
        "colab": {
          "base_uri": "https://localhost:8080/"
        },
        "id": "Vom4oj94UIoZ",
        "outputId": "5fcc014e-b17c-4a23-94eb-0d7ae0723cc3"
      },
      "outputs": [
        {
          "data": {
            "text/plain": [
              "fecha_ultima_clase_funcional\n",
              "2021-10-28 00:00:00    394\n",
              "2021-10-27 00:00:00    374\n",
              "2020-01-20 00:00:00    365\n",
              "2020-01-13 00:00:00    359\n",
              "2021-08-23 00:00:00    358\n",
              "                      ... \n",
              "2018-09-03 00:00:00      1\n",
              "2018-02-01 00:00:00      1\n",
              "2020-09-03 00:00:00      1\n",
              "2020-04-17 00:00:00      1\n",
              "2020-03-23 00:00:00      1\n",
              "Name: count, Length: 1180, dtype: int64"
            ]
          },
          "execution_count": 46,
          "metadata": {},
          "output_type": "execute_result"
        }
      ],
      "source": [
        "# No aporta al modelo, se elimina\n",
        "df_usuarios['fecha_ultima_clase_funcional'].value_counts()"
      ]
    },
    {
      "cell_type": "code",
      "execution_count": 47,
      "metadata": {
        "id": "8HRaMxJi8S3x"
      },
      "outputs": [],
      "source": [
        "# Se elimina la variable fecha_ultima_clase_funcional\n",
        "df_usuarios = df_usuarios.drop(columns=['fecha_ultima_clase_funcional'])"
      ]
    },
    {
      "cell_type": "code",
      "execution_count": 48,
      "metadata": {
        "colab": {
          "base_uri": "https://localhost:8080/"
        },
        "id": "EqLExW_OUTMm",
        "outputId": "4f634825-bdaa-41ee-c8ff-4f3f5125cbe2"
      },
      "outputs": [
        {
          "data": {
            "text/plain": [
              "ultima_clase_funcional\n",
              "CLASE FUNCIONAL 2A    27524\n",
              "CLASE FUNCIONAL 2B    22749\n",
              "Clase funcional 2A    21800\n",
              "CLASE FUNCIONAL 4     14701\n",
              "Clase funcional 4     14283\n",
              "Clase funcional 2B    13103\n",
              "CLASE FUNCIONAL 3      5103\n",
              "Clase funcional 3      1855\n",
              "CLASE FUNCIONAL 1      1567\n",
              "Sin Clasificar         1393\n",
              "Clase funcional 1       671\n",
              "Sin clasificar          284\n",
              "SIN CLASIFICAR          192\n",
              "Name: count, dtype: int64"
            ]
          },
          "execution_count": 48,
          "metadata": {},
          "output_type": "execute_result"
        }
      ],
      "source": [
        "# Se encuentra que hay categorias que estan mal escritas\n",
        "df_usuarios['ultima_clase_funcional'].value_counts()"
      ]
    },
    {
      "cell_type": "code",
      "execution_count": 49,
      "metadata": {
        "id": "Z6Vbuolao4jn"
      },
      "outputs": [],
      "source": [
        "categorias = {'clase funcional 1': 'Clase funcional 1','CLASE FUNCIONAL 1': 'Clase funcional 1','CLASE FUNCIONAL 2B':'Clase funcional 2B','CLASE FUNCIONAL 2A':'Clase funcional 2A','CLASE FUNCIONAL 3':'Clase funcional 3','CLASE FUNCIONAL 4':'Clase funcional 4','Sin Clasificar':'Sin clasificar','SIN CLASIFICAR':'Sin clasificar'}"
      ]
    },
    {
      "cell_type": "code",
      "execution_count": 50,
      "metadata": {
        "id": "6nT2Yx1Zpt-b"
      },
      "outputs": [],
      "source": [
        "df_usuarios['ultima_clase_funcional'] = df_usuarios['ultima_clase_funcional'].replace(categorias)"
      ]
    },
    {
      "cell_type": "code",
      "execution_count": 51,
      "metadata": {
        "colab": {
          "base_uri": "https://localhost:8080/"
        },
        "id": "cbeyfRSWpyJd",
        "outputId": "ecc9ef3f-d42e-4cbf-b323-618e09f0ced4"
      },
      "outputs": [
        {
          "data": {
            "text/plain": [
              "ultima_clase_funcional\n",
              "Clase funcional 2A    49324\n",
              "Clase funcional 2B    35852\n",
              "Clase funcional 4     28984\n",
              "Clase funcional 3      6958\n",
              "Clase funcional 1      2238\n",
              "Sin clasificar         1869\n",
              "Name: count, dtype: int64"
            ]
          },
          "execution_count": 51,
          "metadata": {},
          "output_type": "execute_result"
        }
      ],
      "source": [
        "df_usuarios['ultima_clase_funcional'].value_counts()"
      ]
    },
    {
      "cell_type": "code",
      "execution_count": 52,
      "metadata": {
        "colab": {
          "base_uri": "https://localhost:8080/"
        },
        "id": "nWJSP56Mqb2l",
        "outputId": "a3c0e72a-0f7f-4b77-f4be-ddc4714cdca0"
      },
      "outputs": [
        {
          "data": {
            "text/plain": [
              "ultima_clase_funcional\n",
              "Clase funcional 2A    49324\n",
              "Clase funcional 2B    35852\n",
              "Clase funcional 4     28984\n",
              "NaN                   24530\n",
              "Clase funcional 3      6958\n",
              "Clase funcional 1      2238\n",
              "Sin clasificar         1869\n",
              "Name: count, dtype: int64"
            ]
          },
          "execution_count": 52,
          "metadata": {},
          "output_type": "execute_result"
        }
      ],
      "source": [
        "df_usuarios['ultima_clase_funcional'].value_counts(dropna=False)"
      ]
    },
    {
      "cell_type": "code",
      "execution_count": 53,
      "metadata": {
        "id": "HwAbManbqrpB"
      },
      "outputs": [],
      "source": [
        "df_usuarios['ultima_clase_funcional'].fillna('Sin clasificar', inplace=True)"
      ]
    },
    {
      "cell_type": "code",
      "execution_count": 54,
      "metadata": {
        "colab": {
          "base_uri": "https://localhost:8080/"
        },
        "id": "Zo4J-JgrqPFi",
        "outputId": "7e2ab65d-d70f-4501-c4cf-7a82e06ccf85"
      },
      "outputs": [
        {
          "data": {
            "text/plain": [
              "mes                        0\n",
              "year                       0\n",
              "nrodoc                     0\n",
              "sexo                       0\n",
              "edad                       0\n",
              "primera_clase_funcional    0\n",
              "ultima_clase_funcional     0\n",
              "ciclo_vital                0\n",
              "quinquenio                 0\n",
              "dtype: int64"
            ]
          },
          "execution_count": 54,
          "metadata": {},
          "output_type": "execute_result"
        }
      ],
      "source": [
        "df_usuarios.isnull().sum()"
      ]
    },
    {
      "cell_type": "code",
      "execution_count": 55,
      "metadata": {
        "colab": {
          "base_uri": "https://localhost:8080/"
        },
        "id": "n_BqV2EQUda9",
        "outputId": "45b5f5c0-2427-45d1-898c-e82c162cf4c1"
      },
      "outputs": [
        {
          "data": {
            "text/plain": [
              "ciclo_vital\n",
              "Vejez       130595\n",
              "Adultez      17542\n",
              "Juventud      1618\n",
              "Name: count, dtype: int64"
            ]
          },
          "execution_count": 55,
          "metadata": {},
          "output_type": "execute_result"
        }
      ],
      "source": [
        "df_usuarios['ciclo_vital'].value_counts()"
      ]
    },
    {
      "cell_type": "code",
      "execution_count": 56,
      "metadata": {
        "colab": {
          "base_uri": "https://localhost:8080/"
        },
        "id": "NjHm2oKVUizy",
        "outputId": "200cdf4c-0fe9-4355-ef06-b4baa3e99b94"
      },
      "outputs": [
        {
          "data": {
            "text/plain": [
              "quinquenio\n",
              "75-79     24956\n",
              "70-74     23335\n",
              "80-84     22711\n",
              "65-69     18600\n",
              "85-89     16554\n",
              "60-64     12720\n",
              ">90       11719\n",
              "55-59      7855\n",
              "50-54      4432\n",
              "45-49      2107\n",
              "25-29      1102\n",
              "40-44      1095\n",
              "35-39       939\n",
              "30-34       927\n",
              "20-24       678\n",
              "15-19        25\n",
              "Name: count, dtype: int64"
            ]
          },
          "execution_count": 56,
          "metadata": {},
          "output_type": "execute_result"
        }
      ],
      "source": [
        "df_usuarios['quinquenio'].value_counts()"
      ]
    },
    {
      "cell_type": "code",
      "execution_count": 57,
      "metadata": {
        "colab": {
          "base_uri": "https://localhost:8080/",
          "height": 424
        },
        "id": "zZadf0_11j-f",
        "outputId": "ac0f3362-2c4e-4665-e24d-73c88f85f189"
      },
      "outputs": [
        {
          "data": {
            "text/html": [
              "<div>\n",
              "<style scoped>\n",
              "    .dataframe tbody tr th:only-of-type {\n",
              "        vertical-align: middle;\n",
              "    }\n",
              "\n",
              "    .dataframe tbody tr th {\n",
              "        vertical-align: top;\n",
              "    }\n",
              "\n",
              "    .dataframe thead th {\n",
              "        text-align: right;\n",
              "    }\n",
              "</style>\n",
              "<table border=\"1\" class=\"dataframe\">\n",
              "  <thead>\n",
              "    <tr style=\"text-align: right;\">\n",
              "      <th></th>\n",
              "      <th>mes</th>\n",
              "      <th>year</th>\n",
              "      <th>nrodoc</th>\n",
              "      <th>sexo</th>\n",
              "      <th>edad</th>\n",
              "      <th>primera_clase_funcional</th>\n",
              "      <th>ultima_clase_funcional</th>\n",
              "      <th>ciclo_vital</th>\n",
              "      <th>quinquenio</th>\n",
              "    </tr>\n",
              "  </thead>\n",
              "  <tbody>\n",
              "    <tr>\n",
              "      <th>24410</th>\n",
              "      <td>Septiembre</td>\n",
              "      <td>2017</td>\n",
              "      <td>307559</td>\n",
              "      <td>M</td>\n",
              "      <td>68.0</td>\n",
              "      <td>Sin clasificar</td>\n",
              "      <td>Sin clasificar</td>\n",
              "      <td>Vejez</td>\n",
              "      <td>65-69</td>\n",
              "    </tr>\n",
              "    <tr>\n",
              "      <th>24411</th>\n",
              "      <td>Septiembre</td>\n",
              "      <td>2017</td>\n",
              "      <td>309773</td>\n",
              "      <td>M</td>\n",
              "      <td>54.0</td>\n",
              "      <td>Sin clasificar</td>\n",
              "      <td>Sin clasificar</td>\n",
              "      <td>Adultez</td>\n",
              "      <td>50-54</td>\n",
              "    </tr>\n",
              "    <tr>\n",
              "      <th>24412</th>\n",
              "      <td>Septiembre</td>\n",
              "      <td>2017</td>\n",
              "      <td>307242</td>\n",
              "      <td>M</td>\n",
              "      <td>69.0</td>\n",
              "      <td>Sin clasificar</td>\n",
              "      <td>Sin clasificar</td>\n",
              "      <td>Vejez</td>\n",
              "      <td>65-69</td>\n",
              "    </tr>\n",
              "    <tr>\n",
              "      <th>24413</th>\n",
              "      <td>Septiembre</td>\n",
              "      <td>2017</td>\n",
              "      <td>310331</td>\n",
              "      <td>F</td>\n",
              "      <td>27.0</td>\n",
              "      <td>Sin clasificar</td>\n",
              "      <td>Sin clasificar</td>\n",
              "      <td>Juventud</td>\n",
              "      <td>25-29</td>\n",
              "    </tr>\n",
              "    <tr>\n",
              "      <th>24414</th>\n",
              "      <td>Septiembre</td>\n",
              "      <td>2017</td>\n",
              "      <td>310333</td>\n",
              "      <td>F</td>\n",
              "      <td>25.0</td>\n",
              "      <td>Sin clasificar</td>\n",
              "      <td>Sin clasificar</td>\n",
              "      <td>Juventud</td>\n",
              "      <td>25-29</td>\n",
              "    </tr>\n",
              "    <tr>\n",
              "      <th>...</th>\n",
              "      <td>...</td>\n",
              "      <td>...</td>\n",
              "      <td>...</td>\n",
              "      <td>...</td>\n",
              "      <td>...</td>\n",
              "      <td>...</td>\n",
              "      <td>...</td>\n",
              "      <td>...</td>\n",
              "      <td>...</td>\n",
              "    </tr>\n",
              "    <tr>\n",
              "      <th>183906</th>\n",
              "      <td>Junio</td>\n",
              "      <td>2022</td>\n",
              "      <td>307482</td>\n",
              "      <td>F</td>\n",
              "      <td>81.0</td>\n",
              "      <td>Clase funcional 2B</td>\n",
              "      <td>Clase funcional 2A</td>\n",
              "      <td>Vejez</td>\n",
              "      <td>80-84</td>\n",
              "    </tr>\n",
              "    <tr>\n",
              "      <th>183907</th>\n",
              "      <td>Junio</td>\n",
              "      <td>2022</td>\n",
              "      <td>313801</td>\n",
              "      <td>F</td>\n",
              "      <td>23.0</td>\n",
              "      <td>Clase funcional 1</td>\n",
              "      <td>Clase funcional 1</td>\n",
              "      <td>Juventud</td>\n",
              "      <td>20-24</td>\n",
              "    </tr>\n",
              "    <tr>\n",
              "      <th>183908</th>\n",
              "      <td>Junio</td>\n",
              "      <td>2022</td>\n",
              "      <td>307738</td>\n",
              "      <td>F</td>\n",
              "      <td>78.0</td>\n",
              "      <td>Clase funcional 2B</td>\n",
              "      <td>Clase funcional 2A</td>\n",
              "      <td>Vejez</td>\n",
              "      <td>75-79</td>\n",
              "    </tr>\n",
              "    <tr>\n",
              "      <th>183909</th>\n",
              "      <td>Junio</td>\n",
              "      <td>2022</td>\n",
              "      <td>311656</td>\n",
              "      <td>M</td>\n",
              "      <td>82.0</td>\n",
              "      <td>Clase funcional 2A</td>\n",
              "      <td>Clase funcional 2B</td>\n",
              "      <td>Vejez</td>\n",
              "      <td>80-84</td>\n",
              "    </tr>\n",
              "    <tr>\n",
              "      <th>183910</th>\n",
              "      <td>Junio</td>\n",
              "      <td>2022</td>\n",
              "      <td>309230</td>\n",
              "      <td>M</td>\n",
              "      <td>65.0</td>\n",
              "      <td>Clase funcional 2A</td>\n",
              "      <td>Clase funcional 2B</td>\n",
              "      <td>Vejez</td>\n",
              "      <td>65-69</td>\n",
              "    </tr>\n",
              "  </tbody>\n",
              "</table>\n",
              "<p>149755 rows × 9 columns</p>\n",
              "</div>"
            ],
            "text/plain": [
              "               mes  year  nrodoc sexo  edad primera_clase_funcional  \\\n",
              "24410   Septiembre  2017  307559    M  68.0          Sin clasificar   \n",
              "24411   Septiembre  2017  309773    M  54.0          Sin clasificar   \n",
              "24412   Septiembre  2017  307242    M  69.0          Sin clasificar   \n",
              "24413   Septiembre  2017  310331    F  27.0          Sin clasificar   \n",
              "24414   Septiembre  2017  310333    F  25.0          Sin clasificar   \n",
              "...            ...   ...     ...  ...   ...                     ...   \n",
              "183906       Junio  2022  307482    F  81.0      Clase funcional 2B   \n",
              "183907       Junio  2022  313801    F  23.0       Clase funcional 1   \n",
              "183908       Junio  2022  307738    F  78.0      Clase funcional 2B   \n",
              "183909       Junio  2022  311656    M  82.0      Clase funcional 2A   \n",
              "183910       Junio  2022  309230    M  65.0      Clase funcional 2A   \n",
              "\n",
              "       ultima_clase_funcional ciclo_vital quinquenio  \n",
              "24410          Sin clasificar       Vejez     65-69   \n",
              "24411          Sin clasificar     Adultez     50-54   \n",
              "24412          Sin clasificar       Vejez     65-69   \n",
              "24413          Sin clasificar    Juventud     25-29   \n",
              "24414          Sin clasificar    Juventud     25-29   \n",
              "...                       ...         ...        ...  \n",
              "183906     Clase funcional 2A       Vejez      80-84  \n",
              "183907      Clase funcional 1    Juventud      20-24  \n",
              "183908     Clase funcional 2A       Vejez     75-79   \n",
              "183909     Clase funcional 2B       Vejez      80-84  \n",
              "183910     Clase funcional 2B       Vejez     65-69   \n",
              "\n",
              "[149755 rows x 9 columns]"
            ]
          },
          "execution_count": 57,
          "metadata": {},
          "output_type": "execute_result"
        }
      ],
      "source": [
        "df_usuarios"
      ]
    },
    {
      "cell_type": "markdown",
      "metadata": {
        "id": "1dly43Rf8c6S"
      },
      "source": [
        "La base de datos de usuarios queda con 149.755 registros y 9 columnas"
      ]
    },
    {
      "cell_type": "code",
      "execution_count": 58,
      "metadata": {
        "colab": {
          "base_uri": "https://localhost:8080/"
        },
        "id": "14ZWGUaYjzur",
        "outputId": "6b9f1cb7-c757-499c-ca00-c566a55323ff"
      },
      "outputs": [
        {
          "name": "stdout",
          "output_type": "stream",
          "text": [
            "Se tienen 7790 pacientes únicos en los datos.\n"
          ]
        }
      ],
      "source": [
        "# Cuántos pacientes se tienen en el df?\n",
        "print('Se tienen', len(df_usuarios['nrodoc'].unique()), 'pacientes únicos en los datos.')"
      ]
    },
    {
      "cell_type": "code",
      "execution_count": 59,
      "metadata": {
        "id": "i0gBR2ijko7u"
      },
      "outputs": [],
      "source": [
        "#convertimos la base a un csv\n",
        "df_usuarios.to_csv('DBs\\df_usuarios.csv', index=True)"
      ]
    }
  ],
  "metadata": {
    "colab": {
      "provenance": []
    },
    "kernelspec": {
      "display_name": "Python 3",
      "name": "python3"
    },
    "language_info": {
      "codemirror_mode": {
        "name": "ipython",
        "version": 3
      },
      "file_extension": ".py",
      "mimetype": "text/x-python",
      "name": "python",
      "nbconvert_exporter": "python",
      "pygments_lexer": "ipython3",
      "version": "3.10.7"
    }
  },
  "nbformat": 4,
  "nbformat_minor": 0
}
